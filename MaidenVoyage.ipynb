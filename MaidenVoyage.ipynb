{
 "cells": [
  {
   "cell_type": "code",
   "execution_count": 12,
   "metadata": {},
   "outputs": [],
   "source": [
    "from tensorflow.keras.preprocessing.image import ImageDataGenerator\n",
    "import os\n",
    "import matplotlib.pyplot as plt\n",
    "from tensorflow.keras import Sequential, layers\n",
    "from tensorflow.keras.optimizers import SGD"
   ]
  },
  {
   "cell_type": "code",
   "execution_count": 2,
   "metadata": {},
   "outputs": [
    {
     "name": "stdout",
     "output_type": "stream",
     "text": [
      "Found 5216 images belonging to 2 classes.\n",
      "Found 624 images belonging to 2 classes.\n",
      "Found 16 images belonging to 2 classes.\n"
     ]
    }
   ],
   "source": [
    "datagen = ImageDataGenerator()\n",
    "train_path = os.path.join('chest_xray', 'train')\n",
    "test_path = os.path.join('chest_xray', 'test')\n",
    "val_path = os.path.join('chest_xray', 'val')\n",
    "\n",
    "train_gen = datagen.flow_from_directory(train_path)\n",
    "test_gen = datagen.flow_from_directory(test_path)\n",
    "val_gen = datagen.flow_from_directory(val_path)"
   ]
  },
  {
   "cell_type": "code",
   "execution_count": 43,
   "metadata": {},
   "outputs": [
    {
     "data": {
      "text/plain": [
       "1e-06"
      ]
     },
     "execution_count": 43,
     "metadata": {},
     "output_type": "execute_result"
    }
   ],
   "source": []
  },
  {
   "cell_type": "code",
   "execution_count": 44,
   "metadata": {},
   "outputs": [],
   "source": [
    "opt = SGD(learning_rate=1*10**-5)"
   ]
  },
  {
   "cell_type": "markdown",
   "metadata": {},
   "source": [
    "`model.fit_generator(train_gen, validation_data=val_gen)`"
   ]
  },
  {
   "cell_type": "code",
   "execution_count": 19,
   "metadata": {},
   "outputs": [],
   "source": [
    "def visualize_training_results(results):\n",
    "    history = results.history\n",
    "    plt.figure()\n",
    "    plt.plot(history['val_loss'])\n",
    "    plt.plot(history['loss'])\n",
    "    plt.legend(['val_loss', 'loss'])\n",
    "    plt.title('Loss')\n",
    "    plt.xlabel('Epochs')\n",
    "    plt.ylabel('Loss')\n",
    "    plt.show()\n",
    "    \n",
    "    plt.figure()\n",
    "    plt.plot(history['val_accuracy'])\n",
    "    plt.plot(history['accuracy'])\n",
    "    plt.legend(['val_acc', 'acc'])\n",
    "    plt.title('Accuracy')\n",
    "    plt.xlabel('Epochs')\n",
    "    plt.ylabel('Accuracy')\n",
    "    plt.show()"
   ]
  },
  {
   "cell_type": "code",
   "execution_count": 72,
   "metadata": {},
   "outputs": [],
   "source": [
    "def baseline_model(image_shape):\n",
    "    model_layers = [\n",
    "        layers.Input(image_shape),\n",
    "        layers.Flatten(),\n",
    "        layers.Dense(24, activation='relu'),\n",
    "        layers.Dense(2, activation='sigmoid')\n",
    "    ]\n",
    "    model = Sequential(model_layers)\n",
    "    model.compile(loss='binary_crossentropy', optimizer=opt, metrics=['accuracy'])\n",
    "    return model"
   ]
  },
  {
   "cell_type": "code",
   "execution_count": 73,
   "metadata": {
    "scrolled": true
   },
   "outputs": [
    {
     "name": "stdout",
     "output_type": "stream",
     "text": [
      "Epoch 1/25\n",
      "163/163 [==============================] - 78s 477ms/step - loss: 7.6501 - accuracy: 0.7393 - val_loss: 0.6931 - val_accuracy: 0.5000\n",
      "Epoch 2/25\n",
      "163/163 [==============================] - 75s 461ms/step - loss: 0.6931 - accuracy: 0.7431 - val_loss: 0.6931 - val_accuracy: 0.5000\n",
      "Epoch 3/25\n",
      "163/163 [==============================] - 76s 464ms/step - loss: 0.6930 - accuracy: 0.7431 - val_loss: 0.6931 - val_accuracy: 0.5000\n",
      "Epoch 4/25\n",
      "163/163 [==============================] - 76s 463ms/step - loss: 0.6930 - accuracy: 0.7431 - val_loss: 0.6931 - val_accuracy: 0.5000\n",
      "Epoch 5/25\n",
      "163/163 [==============================] - 76s 467ms/step - loss: 0.6929 - accuracy: 0.7431 - val_loss: 0.6931 - val_accuracy: 0.5000\n",
      "Epoch 6/25\n",
      "163/163 [==============================] - 75s 459ms/step - loss: 0.6929 - accuracy: 0.7431 - val_loss: 0.6931 - val_accuracy: 0.5000\n",
      "Epoch 7/25\n",
      "163/163 [==============================] - 75s 459ms/step - loss: 0.6928 - accuracy: 0.7431 - val_loss: 0.6931 - val_accuracy: 0.5000\n",
      "Epoch 8/25\n",
      "163/163 [==============================] - 75s 462ms/step - loss: 0.6928 - accuracy: 0.7431 - val_loss: 0.6931 - val_accuracy: 0.5000\n",
      "Epoch 9/25\n",
      "163/163 [==============================] - 75s 463ms/step - loss: 0.6927 - accuracy: 0.7431 - val_loss: 0.6931 - val_accuracy: 0.5000\n",
      "Epoch 10/25\n",
      "163/163 [==============================] - 76s 464ms/step - loss: 0.6927 - accuracy: 0.7431 - val_loss: 0.6931 - val_accuracy: 0.5000\n",
      "Epoch 11/25\n",
      "163/163 [==============================] - 76s 467ms/step - loss: 0.6926 - accuracy: 0.7431 - val_loss: 0.6931 - val_accuracy: 0.5000\n",
      "Epoch 12/25\n",
      "163/163 [==============================] - 76s 467ms/step - loss: 0.6926 - accuracy: 0.7431 - val_loss: 0.6931 - val_accuracy: 0.5000\n",
      "Epoch 13/25\n",
      "163/163 [==============================] - 76s 465ms/step - loss: 0.6925 - accuracy: 0.7431 - val_loss: 0.6931 - val_accuracy: 0.5000\n",
      "Epoch 14/25\n",
      "163/163 [==============================] - 76s 468ms/step - loss: 0.6925 - accuracy: 0.7431 - val_loss: 0.6931 - val_accuracy: 0.5000\n",
      "Epoch 15/25\n",
      "163/163 [==============================] - 75s 458ms/step - loss: 0.6925 - accuracy: 0.7431 - val_loss: 0.6931 - val_accuracy: 0.5000\n",
      "Epoch 16/25\n",
      "163/163 [==============================] - 74s 455ms/step - loss: 0.6924 - accuracy: 0.7431 - val_loss: 0.6931 - val_accuracy: 0.5000\n",
      "Epoch 17/25\n",
      "163/163 [==============================] - 74s 455ms/step - loss: 0.6924 - accuracy: 0.7431 - val_loss: 0.6931 - val_accuracy: 0.5000\n",
      "Epoch 18/25\n",
      "163/163 [==============================] - 75s 460ms/step - loss: 0.6923 - accuracy: 0.7431 - val_loss: 0.6931 - val_accuracy: 0.5000\n",
      "Epoch 19/25\n",
      "163/163 [==============================] - 75s 461ms/step - loss: 0.6923 - accuracy: 0.7431 - val_loss: 0.6931 - val_accuracy: 0.5000\n",
      "Epoch 20/25\n",
      "163/163 [==============================] - 75s 462ms/step - loss: 0.6922 - accuracy: 0.7431 - val_loss: 0.6931 - val_accuracy: 0.5000\n",
      "Epoch 21/25\n",
      "163/163 [==============================] - 76s 466ms/step - loss: 0.6922 - accuracy: 0.7431 - val_loss: 0.6931 - val_accuracy: 0.5000\n",
      "Epoch 22/25\n",
      "163/163 [==============================] - 76s 465ms/step - loss: 0.6921 - accuracy: 0.7431 - val_loss: 0.6931 - val_accuracy: 0.5000\n",
      "Epoch 23/25\n",
      "163/163 [==============================] - 76s 465ms/step - loss: 0.6921 - accuracy: 0.7431 - val_loss: 0.6931 - val_accuracy: 0.5000\n",
      "Epoch 24/25\n",
      "163/163 [==============================] - 76s 468ms/step - loss: 0.6920 - accuracy: 0.7431 - val_loss: 0.6931 - val_accuracy: 0.5000\n",
      "Epoch 25/25\n",
      "163/163 [==============================] - 76s 467ms/step - loss: 0.6920 - accuracy: 0.7431 - val_loss: 0.6932 - val_accuracy: 0.5000\n"
     ]
    }
   ],
   "source": [
    "\n",
    "baseline_model = baseline_model(train_gen.image_shape)\n",
    "results_1 = baseline_model.fit(train_gen, validation_data=val_gen, epochs=25)"
   ]
  },
  {
   "cell_type": "code",
   "execution_count": 94,
   "metadata": {},
   "outputs": [
    {
     "data": {
      "image/png": "[encoded data removed]",
      "text/plain": [
       "<Figure size 432x288 with 1 Axes>"
      ]
     },
     "metadata": {
      "needs_background": "light"
     },
     "output_type": "display_data"
    },
    {
     "data": {
      "image/png": "[encoded data removed]",
      "text/plain": [
       "<Figure size 432x288 with 1 Axes>"
      ]
     },
     "metadata": {
      "needs_background": "light"
     },
     "output_type": "display_data"
    }
   ],
   "source": [
    "visualize_training_results(results_1)"
   ]
  },
  {
   "cell_type": "code",
   "execution_count": 74,
   "metadata": {},
   "outputs": [],
   "source": [
    "def conv_1(image_shape):\n",
    "    these_layers = [\n",
    "        layers.Input(image_shape),\n",
    "        layers.Conv2D(32, (3, 3), activation='relu'),\n",
    "        layers.MaxPooling2D((2, 2)),\n",
    "        layers.Flatten(),\n",
    "        layers.Dense(32, activation='relu'),\n",
    "        layers.Dense(2, activation='sigmoid')\n",
    "    ]\n",
    "    model = Sequential(these_layers)\n",
    "    model.compile(loss='binary_crossentropy', optimizer='adam', metrics=['accuracy'])\n",
    "    return model"
   ]
  },
  {
   "cell_type": "code",
   "execution_count": 75,
   "metadata": {},
   "outputs": [
    {
     "name": "stdout",
     "output_type": "stream",
     "text": [
      "Model: \"sequential_14\"\n",
      "_________________________________________________________________\n",
      "Layer (type)                 Output Shape              Param #   \n",
      "=================================================================\n",
      "conv2d_42 (Conv2D)           (None, 254, 254, 32)      896       \n",
      "_________________________________________________________________\n",
      "max_pooling2d_20 (MaxPooling (None, 127, 127, 32)      0         \n",
      "_________________________________________________________________\n",
      "flatten_19 (Flatten)         (None, 516128)            0         \n",
      "_________________________________________________________________\n",
      "dense_45 (Dense)             (None, 32)                16516128  \n",
      "_________________________________________________________________\n",
      "dense_46 (Dense)             (None, 2)                 66        \n",
      "=================================================================\n",
      "Total params: 16,517,090\n",
      "Trainable params: 16,517,090\n",
      "Non-trainable params: 0\n",
      "_________________________________________________________________\n"
     ]
    }
   ],
   "source": [
    "model_2 = conv_1(train_gen.image_shape)\n",
    "model_2.summary()"
   ]
  },
  {
   "cell_type": "code",
   "execution_count": 76,
   "metadata": {},
   "outputs": [
    {
     "name": "stdout",
     "output_type": "stream",
     "text": [
      "Epoch 1/25\n",
      "163/163 [==============================] - 144s 860ms/step - loss: 331.8945 - accuracy: 0.6756 - val_loss: 0.6944 - val_accuracy: 0.5000\n",
      "Epoch 2/25\n",
      "163/163 [==============================] - 131s 802ms/step - loss: 0.6568 - accuracy: 0.7429 - val_loss: 0.6997 - val_accuracy: 0.5000\n",
      "Epoch 3/25\n",
      "163/163 [==============================] - 132s 809ms/step - loss: 0.6333 - accuracy: 0.7429 - val_loss: 0.7084 - val_accuracy: 0.5000\n",
      "Epoch 4/25\n",
      "163/163 [==============================] - 130s 797ms/step - loss: 0.6152 - accuracy: 0.7429 - val_loss: 0.7194 - val_accuracy: 0.5000\n",
      "Epoch 5/25\n",
      "163/163 [==============================] - 131s 802ms/step - loss: 0.6016 - accuracy: 0.7429 - val_loss: 0.7315 - val_accuracy: 0.5000\n",
      "Epoch 6/25\n",
      "163/163 [==============================] - 130s 796ms/step - loss: 0.5917 - accuracy: 0.7429 - val_loss: 0.7440 - val_accuracy: 0.5000\n",
      "Epoch 7/25\n",
      "163/163 [==============================] - 131s 797ms/step - loss: 0.5845 - accuracy: 0.7429 - val_loss: 0.7568 - val_accuracy: 0.5000\n",
      "Epoch 8/25\n",
      "163/163 [==============================] - 130s 794ms/step - loss: 0.5795 - accuracy: 0.7429 - val_loss: 0.7685 - val_accuracy: 0.5000\n",
      "Epoch 9/25\n",
      "163/163 [==============================] - 134s 821ms/step - loss: 0.5760 - accuracy: 0.7429 - val_loss: 0.7794 - val_accuracy: 0.5000\n",
      "Epoch 10/25\n",
      "163/163 [==============================] - 131s 798ms/step - loss: 0.5737 - accuracy: 0.7429 - val_loss: 0.7890 - val_accuracy: 0.5000\n",
      "Epoch 11/25\n",
      "163/163 [==============================] - 131s 800ms/step - loss: 0.5723 - accuracy: 0.7429 - val_loss: 0.7969 - val_accuracy: 0.5000\n",
      "Epoch 12/25\n",
      "163/163 [==============================] - 130s 791ms/step - loss: 0.5714 - accuracy: 0.7429 - val_loss: 0.8036 - val_accuracy: 0.5000\n",
      "Epoch 13/25\n",
      "163/163 [==============================] - 133s 812ms/step - loss: 0.5708 - accuracy: 0.7429 - val_loss: 0.8095 - val_accuracy: 0.5000\n",
      "Epoch 14/25\n",
      "163/163 [==============================] - 132s 810ms/step - loss: 0.5705 - accuracy: 0.7429 - val_loss: 0.8137 - val_accuracy: 0.5000\n",
      "Epoch 15/25\n",
      "163/163 [==============================] - 129s 788ms/step - loss: 0.5703 - accuracy: 0.7429 - val_loss: 0.8176 - val_accuracy: 0.5000\n",
      "Epoch 16/25\n",
      "163/163 [==============================] - 132s 810ms/step - loss: 0.5702 - accuracy: 0.7429 - val_loss: 0.8203 - val_accuracy: 0.5000\n",
      "Epoch 17/25\n",
      "163/163 [==============================] - 133s 810ms/step - loss: 0.5701 - accuracy: 0.7429 - val_loss: 0.8221 - val_accuracy: 0.5000\n",
      "Epoch 18/25\n",
      "163/163 [==============================] - 132s 805ms/step - loss: 0.5701 - accuracy: 0.7429 - val_loss: 0.8236 - val_accuracy: 0.5000\n",
      "Epoch 19/25\n",
      "163/163 [==============================] - 129s 786ms/step - loss: 0.5701 - accuracy: 0.7429 - val_loss: 0.8251 - val_accuracy: 0.5000\n",
      "Epoch 20/25\n",
      "163/163 [==============================] - 130s 797ms/step - loss: 0.5700 - accuracy: 0.7429 - val_loss: 0.8259 - val_accuracy: 0.5000\n",
      "Epoch 21/25\n",
      "163/163 [==============================] - 129s 789ms/step - loss: 0.5700 - accuracy: 0.7429 - val_loss: 0.8265 - val_accuracy: 0.5000\n",
      "Epoch 22/25\n",
      "163/163 [==============================] - 131s 802ms/step - loss: 0.5700 - accuracy: 0.7429 - val_loss: 0.8271 - val_accuracy: 0.5000\n",
      "Epoch 23/25\n",
      "163/163 [==============================] - 129s 789ms/step - loss: 0.5700 - accuracy: 0.7429 - val_loss: 0.8270 - val_accuracy: 0.5000\n",
      "Epoch 24/25\n",
      "163/163 [==============================] - 128s 785ms/step - loss: 0.5700 - accuracy: 0.7429 - val_loss: 0.8274 - val_accuracy: 0.5000\n",
      "Epoch 25/25\n",
      "163/163 [==============================] - 129s 789ms/step - loss: 0.5700 - accuracy: 0.7429 - val_loss: 0.8272 - val_accuracy: 0.5000\n"
     ]
    }
   ],
   "source": [
    "results_2 = model_2.fit(train_gen, validation_data=val_gen, epochs=25)"
   ]
  },
  {
   "cell_type": "code",
   "execution_count": 95,
   "metadata": {},
   "outputs": [
    {
     "data": {
      "image/png": "[encoded data removed]",
      "text/plain": [
       "<Figure size 432x288 with 1 Axes>"
      ]
     },
     "metadata": {
      "needs_background": "light"
     },
     "output_type": "display_data"
    },
    {
     "data": {
      "image/png": "[encoded data removed]",
      "text/plain": [
       "<Figure size 432x288 with 1 Axes>"
      ]
     },
     "metadata": {
      "needs_background": "light"
     },
     "output_type": "display_data"
    }
   ],
   "source": [
    "visualize_training_results(results_2)"
   ]
  },
  {
   "cell_type": "code",
   "execution_count": 91,
   "metadata": {},
   "outputs": [],
   "source": [
    "def AlexNet(image_shape):\n",
    "    model_layers = [\n",
    "        layers.Input(image_shape),\n",
    "        layers.Conv2D(24, (11,11), activation = 'relu'),\n",
    "        layers.BatchNormalization(),\n",
    "        layers.MaxPooling2D((3,3)),\n",
    "        layers.Conv2D(64, (5,5), padding='same', activation='relu'),\n",
    "        layers.BatchNormalization(),\n",
    "        layers.MaxPooling2D((3,3)),\n",
    "        layers.Conv2D(96, (3,3), padding='same', activation='relu'),\n",
    "        layers.BatchNormalization(),\n",
    "        layers.Conv2D(96, (3,3), activation='relu'),\n",
    "        layers.BatchNormalization(),\n",
    "        layers.Conv2D(64, (3,3), activation='relu'),\n",
    "        layers.BatchNormalization(),\n",
    "        layers.MaxPooling2D((3,3)),\n",
    "        layers.Flatten(),\n",
    "        layers.Dense(192, activation='relu'),\n",
    "        layers.Dropout(.3),\n",
    "        layers.Dense(128, activation='relu'),\n",
    "        layers.Dropout(.3),\n",
    "        layers.Dense(128, activation='relu'),\n",
    "        layers.Dropout(.3),\n",
    "        layers.Dense(2, activation='sigmoid')\n",
    "    ]\n",
    "    \n",
    "    model = Sequential(model_layers)\n",
    "    \n",
    "    model.compile(loss='binary_crossentropy', optimizer=opt, metrics=['accuracy'])\n",
    "    return model"
   ]
  },
  {
   "cell_type": "code",
   "execution_count": 92,
   "metadata": {},
   "outputs": [
    {
     "name": "stdout",
     "output_type": "stream",
     "text": [
      "Model: \"sequential_20\"\n",
      "_________________________________________________________________\n",
      "Layer (type)                 Output Shape              Param #   \n",
      "=================================================================\n",
      "conv2d_68 (Conv2D)           (None, 246, 246, 24)      8736      \n",
      "_________________________________________________________________\n",
      "batch_normalization_65 (Batc (None, 246, 246, 24)      96        \n",
      "_________________________________________________________________\n",
      "max_pooling2d_36 (MaxPooling (None, 82, 82, 24)        0         \n",
      "_________________________________________________________________\n",
      "conv2d_69 (Conv2D)           (None, 82, 82, 64)        38464     \n",
      "_________________________________________________________________\n",
      "batch_normalization_66 (Batc (None, 82, 82, 64)        256       \n",
      "_________________________________________________________________\n",
      "max_pooling2d_37 (MaxPooling (None, 27, 27, 64)        0         \n",
      "_________________________________________________________________\n",
      "conv2d_70 (Conv2D)           (None, 27, 27, 96)        55392     \n",
      "_________________________________________________________________\n",
      "batch_normalization_67 (Batc (None, 27, 27, 96)        384       \n",
      "_________________________________________________________________\n",
      "conv2d_71 (Conv2D)           (None, 25, 25, 96)        83040     \n",
      "_________________________________________________________________\n",
      "batch_normalization_68 (Batc (None, 25, 25, 96)        384       \n",
      "_________________________________________________________________\n",
      "conv2d_72 (Conv2D)           (None, 23, 23, 64)        55360     \n",
      "_________________________________________________________________\n",
      "batch_normalization_69 (Batc (None, 23, 23, 64)        256       \n",
      "_________________________________________________________________\n",
      "max_pooling2d_38 (MaxPooling (None, 7, 7, 64)          0         \n",
      "_________________________________________________________________\n",
      "flatten_25 (Flatten)         (None, 3136)              0         \n",
      "_________________________________________________________________\n",
      "dense_67 (Dense)             (None, 192)               602304    \n",
      "_________________________________________________________________\n",
      "dropout_33 (Dropout)         (None, 192)               0         \n",
      "_________________________________________________________________\n",
      "dense_68 (Dense)             (None, 128)               24704     \n",
      "_________________________________________________________________\n",
      "dropout_34 (Dropout)         (None, 128)               0         \n",
      "_________________________________________________________________\n",
      "dense_69 (Dense)             (None, 128)               16512     \n",
      "_________________________________________________________________\n",
      "dropout_35 (Dropout)         (None, 128)               0         \n",
      "_________________________________________________________________\n",
      "dense_70 (Dense)             (None, 2)                 258       \n",
      "=================================================================\n",
      "Total params: 886,146\n",
      "Trainable params: 885,458\n",
      "Non-trainable params: 688\n",
      "_________________________________________________________________\n"
     ]
    }
   ],
   "source": [
    "model_3 = AlexNet(train_gen.image_shape)\n",
    "model_3.summary()"
   ]
  },
  {
   "cell_type": "code",
   "execution_count": 96,
   "metadata": {
    "scrolled": true
   },
   "outputs": [
    {
     "name": "stdout",
     "output_type": "stream",
     "text": [
      "Epoch 1/25\n",
      "  4/163 [..............................] - ETA: 14:29 - loss: 0.5884 - accuracy: 0.7891"
     ]
    },
    {
     "ename": "KeyboardInterrupt",
     "evalue": "",
     "output_type": "error",
     "traceback": [
      "\u001b[0;31m------------------------------------------------------------------------\u001b[0m",
      "\u001b[0;31mKeyboardInterrupt\u001b[0m                      Traceback (most recent call last)",
      "\u001b[0;32m<ipython-input-96-fde97b1fd61c>\u001b[0m in \u001b[0;36m<module>\u001b[0;34m\u001b[0m\n\u001b[0;32m----> 1\u001b[0;31m \u001b[0mresults_3\u001b[0m \u001b[0;34m=\u001b[0m \u001b[0mmodel_3\u001b[0m\u001b[0;34m.\u001b[0m\u001b[0mfit\u001b[0m\u001b[0;34m(\u001b[0m\u001b[0mtrain_gen\u001b[0m\u001b[0;34m,\u001b[0m \u001b[0mvalidation_data\u001b[0m\u001b[0;34m=\u001b[0m\u001b[0mval_gen\u001b[0m\u001b[0;34m,\u001b[0m \u001b[0mepochs\u001b[0m\u001b[0;34m=\u001b[0m\u001b[0;36m25\u001b[0m\u001b[0;34m)\u001b[0m\u001b[0;34m\u001b[0m\u001b[0;34m\u001b[0m\u001b[0m\n\u001b[0m",
      "\u001b[0;32m~/opt/anaconda3/envs/learn-env/lib/python3.8/site-packages/keras/engine/training.py\u001b[0m in \u001b[0;36mfit\u001b[0;34m(self, x, y, batch_size, epochs, verbose, callbacks, validation_split, validation_data, shuffle, class_weight, sample_weight, initial_epoch, steps_per_epoch, validation_steps, validation_batch_size, validation_freq, max_queue_size, workers, use_multiprocessing)\u001b[0m\n\u001b[1;32m   1182\u001b[0m                 _r=1):\n\u001b[1;32m   1183\u001b[0m               \u001b[0mcallbacks\u001b[0m\u001b[0;34m.\u001b[0m\u001b[0mon_train_batch_begin\u001b[0m\u001b[0;34m(\u001b[0m\u001b[0mstep\u001b[0m\u001b[0;34m)\u001b[0m\u001b[0;34m\u001b[0m\u001b[0;34m\u001b[0m\u001b[0m\n\u001b[0;32m-> 1184\u001b[0;31m               \u001b[0mtmp_logs\u001b[0m \u001b[0;34m=\u001b[0m \u001b[0mself\u001b[0m\u001b[0;34m.\u001b[0m\u001b[0mtrain_function\u001b[0m\u001b[0;34m(\u001b[0m\u001b[0miterator\u001b[0m\u001b[0;34m)\u001b[0m\u001b[0;34m\u001b[0m\u001b[0;34m\u001b[0m\u001b[0m\n\u001b[0m\u001b[1;32m   1185\u001b[0m               \u001b[0;32mif\u001b[0m \u001b[0mdata_handler\u001b[0m\u001b[0;34m.\u001b[0m\u001b[0mshould_sync\u001b[0m\u001b[0;34m:\u001b[0m\u001b[0;34m\u001b[0m\u001b[0;34m\u001b[0m\u001b[0m\n\u001b[1;32m   1186\u001b[0m                 \u001b[0mcontext\u001b[0m\u001b[0;34m.\u001b[0m\u001b[0masync_wait\u001b[0m\u001b[0;34m(\u001b[0m\u001b[0;34m)\u001b[0m\u001b[0;34m\u001b[0m\u001b[0;34m\u001b[0m\u001b[0m\n",
      "\u001b[0;32m~/opt/anaconda3/envs/learn-env/lib/python3.8/site-packages/tensorflow/python/eager/def_function.py\u001b[0m in \u001b[0;36m__call__\u001b[0;34m(self, *args, **kwds)\u001b[0m\n\u001b[1;32m    883\u001b[0m \u001b[0;34m\u001b[0m\u001b[0m\n\u001b[1;32m    884\u001b[0m       \u001b[0;32mwith\u001b[0m \u001b[0mOptionalXlaContext\u001b[0m\u001b[0;34m(\u001b[0m\u001b[0mself\u001b[0m\u001b[0;34m.\u001b[0m\u001b[0m_jit_compile\u001b[0m\u001b[0;34m)\u001b[0m\u001b[0;34m:\u001b[0m\u001b[0;34m\u001b[0m\u001b[0;34m\u001b[0m\u001b[0m\n\u001b[0;32m--> 885\u001b[0;31m         \u001b[0mresult\u001b[0m \u001b[0;34m=\u001b[0m \u001b[0mself\u001b[0m\u001b[0;34m.\u001b[0m\u001b[0m_call\u001b[0m\u001b[0;34m(\u001b[0m\u001b[0;34m*\u001b[0m\u001b[0margs\u001b[0m\u001b[0;34m,\u001b[0m \u001b[0;34m**\u001b[0m\u001b[0mkwds\u001b[0m\u001b[0;34m)\u001b[0m\u001b[0;34m\u001b[0m\u001b[0;34m\u001b[0m\u001b[0m\n\u001b[0m\u001b[1;32m    886\u001b[0m \u001b[0;34m\u001b[0m\u001b[0m\n\u001b[1;32m    887\u001b[0m       \u001b[0mnew_tracing_count\u001b[0m \u001b[0;34m=\u001b[0m \u001b[0mself\u001b[0m\u001b[0;34m.\u001b[0m\u001b[0mexperimental_get_tracing_count\u001b[0m\u001b[0;34m(\u001b[0m\u001b[0;34m)\u001b[0m\u001b[0;34m\u001b[0m\u001b[0;34m\u001b[0m\u001b[0m\n",
      "\u001b[0;32m~/opt/anaconda3/envs/learn-env/lib/python3.8/site-packages/tensorflow/python/eager/def_function.py\u001b[0m in \u001b[0;36m_call\u001b[0;34m(self, *args, **kwds)\u001b[0m\n\u001b[1;32m    915\u001b[0m       \u001b[0;31m# In this case we have created variables on the first call, so we run the\u001b[0m\u001b[0;34m\u001b[0m\u001b[0;34m\u001b[0m\u001b[0;34m\u001b[0m\u001b[0m\n\u001b[1;32m    916\u001b[0m       \u001b[0;31m# defunned version which is guaranteed to never create variables.\u001b[0m\u001b[0;34m\u001b[0m\u001b[0;34m\u001b[0m\u001b[0;34m\u001b[0m\u001b[0m\n\u001b[0;32m--> 917\u001b[0;31m       \u001b[0;32mreturn\u001b[0m \u001b[0mself\u001b[0m\u001b[0;34m.\u001b[0m\u001b[0m_stateless_fn\u001b[0m\u001b[0;34m(\u001b[0m\u001b[0;34m*\u001b[0m\u001b[0margs\u001b[0m\u001b[0;34m,\u001b[0m \u001b[0;34m**\u001b[0m\u001b[0mkwds\u001b[0m\u001b[0;34m)\u001b[0m  \u001b[0;31m# pylint: disable=not-callable\u001b[0m\u001b[0;34m\u001b[0m\u001b[0;34m\u001b[0m\u001b[0m\n\u001b[0m\u001b[1;32m    918\u001b[0m     \u001b[0;32melif\u001b[0m \u001b[0mself\u001b[0m\u001b[0;34m.\u001b[0m\u001b[0m_stateful_fn\u001b[0m \u001b[0;32mis\u001b[0m \u001b[0;32mnot\u001b[0m \u001b[0;32mNone\u001b[0m\u001b[0;34m:\u001b[0m\u001b[0;34m\u001b[0m\u001b[0;34m\u001b[0m\u001b[0m\n\u001b[1;32m    919\u001b[0m       \u001b[0;31m# Release the lock early so that multiple threads can perform the call\u001b[0m\u001b[0;34m\u001b[0m\u001b[0;34m\u001b[0m\u001b[0;34m\u001b[0m\u001b[0m\n",
      "\u001b[0;32m~/opt/anaconda3/envs/learn-env/lib/python3.8/site-packages/tensorflow/python/eager/function.py\u001b[0m in \u001b[0;36m__call__\u001b[0;34m(self, *args, **kwargs)\u001b[0m\n\u001b[1;32m   3037\u001b[0m       (graph_function,\n\u001b[1;32m   3038\u001b[0m        filtered_flat_args) = self._maybe_define_function(args, kwargs)\n\u001b[0;32m-> 3039\u001b[0;31m     return graph_function._call_flat(\n\u001b[0m\u001b[1;32m   3040\u001b[0m         filtered_flat_args, captured_inputs=graph_function.captured_inputs)  # pylint: disable=protected-access\n\u001b[1;32m   3041\u001b[0m \u001b[0;34m\u001b[0m\u001b[0m\n",
      "\u001b[0;32m~/opt/anaconda3/envs/learn-env/lib/python3.8/site-packages/tensorflow/python/eager/function.py\u001b[0m in \u001b[0;36m_call_flat\u001b[0;34m(self, args, captured_inputs, cancellation_manager)\u001b[0m\n\u001b[1;32m   1961\u001b[0m         and executing_eagerly):\n\u001b[1;32m   1962\u001b[0m       \u001b[0;31m# No tape is watching; skip to running the function.\u001b[0m\u001b[0;34m\u001b[0m\u001b[0;34m\u001b[0m\u001b[0;34m\u001b[0m\u001b[0m\n\u001b[0;32m-> 1963\u001b[0;31m       return self._build_call_outputs(self._inference_function.call(\n\u001b[0m\u001b[1;32m   1964\u001b[0m           ctx, args, cancellation_manager=cancellation_manager))\n\u001b[1;32m   1965\u001b[0m     forward_backward = self._select_forward_and_backward_functions(\n",
      "\u001b[0;32m~/opt/anaconda3/envs/learn-env/lib/python3.8/site-packages/tensorflow/python/eager/function.py\u001b[0m in \u001b[0;36mcall\u001b[0;34m(self, ctx, args, cancellation_manager)\u001b[0m\n\u001b[1;32m    589\u001b[0m       \u001b[0;32mwith\u001b[0m \u001b[0m_InterpolateFunctionError\u001b[0m\u001b[0;34m(\u001b[0m\u001b[0mself\u001b[0m\u001b[0;34m)\u001b[0m\u001b[0;34m:\u001b[0m\u001b[0;34m\u001b[0m\u001b[0;34m\u001b[0m\u001b[0m\n\u001b[1;32m    590\u001b[0m         \u001b[0;32mif\u001b[0m \u001b[0mcancellation_manager\u001b[0m \u001b[0;32mis\u001b[0m \u001b[0;32mNone\u001b[0m\u001b[0;34m:\u001b[0m\u001b[0;34m\u001b[0m\u001b[0;34m\u001b[0m\u001b[0m\n\u001b[0;32m--> 591\u001b[0;31m           outputs = execute.execute(\n\u001b[0m\u001b[1;32m    592\u001b[0m               \u001b[0mstr\u001b[0m\u001b[0;34m(\u001b[0m\u001b[0mself\u001b[0m\u001b[0;34m.\u001b[0m\u001b[0msignature\u001b[0m\u001b[0;34m.\u001b[0m\u001b[0mname\u001b[0m\u001b[0;34m)\u001b[0m\u001b[0;34m,\u001b[0m\u001b[0;34m\u001b[0m\u001b[0;34m\u001b[0m\u001b[0m\n\u001b[1;32m    593\u001b[0m               \u001b[0mnum_outputs\u001b[0m\u001b[0;34m=\u001b[0m\u001b[0mself\u001b[0m\u001b[0;34m.\u001b[0m\u001b[0m_num_outputs\u001b[0m\u001b[0;34m,\u001b[0m\u001b[0;34m\u001b[0m\u001b[0;34m\u001b[0m\u001b[0m\n",
      "\u001b[0;32m~/opt/anaconda3/envs/learn-env/lib/python3.8/site-packages/tensorflow/python/eager/execute.py\u001b[0m in \u001b[0;36mquick_execute\u001b[0;34m(op_name, num_outputs, inputs, attrs, ctx, name)\u001b[0m\n\u001b[1;32m     57\u001b[0m   \u001b[0;32mtry\u001b[0m\u001b[0;34m:\u001b[0m\u001b[0;34m\u001b[0m\u001b[0;34m\u001b[0m\u001b[0m\n\u001b[1;32m     58\u001b[0m     \u001b[0mctx\u001b[0m\u001b[0;34m.\u001b[0m\u001b[0mensure_initialized\u001b[0m\u001b[0;34m(\u001b[0m\u001b[0;34m)\u001b[0m\u001b[0;34m\u001b[0m\u001b[0;34m\u001b[0m\u001b[0m\n\u001b[0;32m---> 59\u001b[0;31m     tensors = pywrap_tfe.TFE_Py_Execute(ctx._handle, device_name, op_name,\n\u001b[0m\u001b[1;32m     60\u001b[0m                                         inputs, attrs, num_outputs)\n\u001b[1;32m     61\u001b[0m   \u001b[0;32mexcept\u001b[0m \u001b[0mcore\u001b[0m\u001b[0;34m.\u001b[0m\u001b[0m_NotOkStatusException\u001b[0m \u001b[0;32mas\u001b[0m \u001b[0me\u001b[0m\u001b[0;34m:\u001b[0m\u001b[0;34m\u001b[0m\u001b[0;34m\u001b[0m\u001b[0m\n",
      "\u001b[0;31mKeyboardInterrupt\u001b[0m: "
     ]
    }
   ],
   "source": [
    "results_3 = model_3.fit(train_gen, validation_data=val_gen, epochs=25)"
   ]
  },
  {
   "cell_type": "code",
   "execution_count": 97,
   "metadata": {},
   "outputs": [
    {
     "data": {
      "image/png": "[encoded data removed]",
      "text/plain": [
       "<Figure size 432x288 with 1 Axes>"
      ]
     },
     "metadata": {
      "needs_background": "light"
     },
     "output_type": "display_data"
    },
    {
     "data": {
      "image/png": "[encoded data removed]",
      "text/plain": [
       "<Figure size 432x288 with 1 Axes>"
      ]
     },
     "metadata": {
      "needs_background": "light"
     },
     "output_type": "display_data"
    }
   ],
   "source": [
    "visualize_training_results(results_3)"
   ]
  },
  {
   "cell_type": "code",
   "execution_count": 63,
   "metadata": {},
   "outputs": [],
   "source": [
    "from tensorflow.keras import Model\n",
    "\n",
    "def SimpleResNet(image_shape):\n",
    "    input_layer = layers.Input(image_shape)\n",
    "    \n",
    "    X = layers.Conv2D(16, (3,3), activation='relu')(input_layer)\n",
    "    X = layers.BatchNormalization()(X)\n",
    "    \n",
    "    X_shortcut = X\n",
    "    \n",
    "    X = layers.Conv2D(16, (3,3), padding='same', activation='relu')(X)\n",
    "    X = layers.BatchNormalization()(X)\n",
    "    \n",
    "    X = layers.Add()([X, X_shortcut]) #Skip Connection\n",
    "    X = layers.Activation('relu')(X)\n",
    "    X = layers.Flatten()(X)\n",
    "    X = layers.Dense(2, activation='sigmoid')(X)\n",
    "    \n",
    "    model = Model(inputs=input_layer, outputs=X, name='ResNet')\n",
    "    \n",
    "    model.compile(loss='binary_crossentropy',\n",
    "                 optimizer=opt,\n",
    "                  metrics=['accuracy'])\n",
    "    \n",
    "    return model"
   ]
  },
  {
   "cell_type": "code",
   "execution_count": 64,
   "metadata": {},
   "outputs": [
    {
     "name": "stdout",
     "output_type": "stream",
     "text": [
      "Model: \"ResNet\"\n",
      "__________________________________________________________________________________________________\n",
      "Layer (type)                    Output Shape         Param #     Connected to                     \n",
      "==================================================================================================\n",
      "input_16 (InputLayer)           [(None, 256, 256, 3) 0                                            \n",
      "__________________________________________________________________________________________________\n",
      "conv2d_39 (Conv2D)              (None, 254, 254, 16) 448         input_16[0][0]                   \n",
      "__________________________________________________________________________________________________\n",
      "batch_normalization_38 (BatchNo (None, 254, 254, 16) 64          conv2d_39[0][0]                  \n",
      "__________________________________________________________________________________________________\n",
      "conv2d_40 (Conv2D)              (None, 254, 254, 16) 2320        batch_normalization_38[0][0]     \n",
      "__________________________________________________________________________________________________\n",
      "batch_normalization_39 (BatchNo (None, 254, 254, 16) 64          conv2d_40[0][0]                  \n",
      "__________________________________________________________________________________________________\n",
      "add_4 (Add)                     (None, 254, 254, 16) 0           batch_normalization_39[0][0]     \n",
      "                                                                 batch_normalization_38[0][0]     \n",
      "__________________________________________________________________________________________________\n",
      "activation_4 (Activation)       (None, 254, 254, 16) 0           add_4[0][0]                      \n",
      "__________________________________________________________________________________________________\n",
      "flatten_15 (Flatten)            (None, 1032256)      0           activation_4[0][0]               \n",
      "__________________________________________________________________________________________________\n",
      "dense_38 (Dense)                (None, 2)            2064514     flatten_15[0][0]                 \n",
      "==================================================================================================\n",
      "Total params: 2,067,410\n",
      "Trainable params: 2,067,346\n",
      "Non-trainable params: 64\n",
      "__________________________________________________________________________________________________\n"
     ]
    }
   ],
   "source": [
    "model_4 = SimpleResNet(train_gen.image_shape)\n",
    "model_4.summary()"
   ]
  },
  {
   "cell_type": "code",
   "execution_count": 65,
   "metadata": {},
   "outputs": [
    {
     "name": "stdout",
     "output_type": "stream",
     "text": [
      "Epoch 1/25\n",
      "163/163 [==============================] - 274s 2s/step - loss: 0.5047 - accuracy: 0.8163 - val_loss: 0.8084 - val_accuracy: 0.5625\n",
      "Epoch 2/25\n",
      "163/163 [==============================] - 274s 2s/step - loss: 0.2893 - accuracy: 0.9099 - val_loss: 0.6622 - val_accuracy: 0.5625\n",
      "Epoch 3/25\n",
      "163/163 [==============================] - 275s 2s/step - loss: 0.2209 - accuracy: 0.9342 - val_loss: 0.6640 - val_accuracy: 0.6875\n",
      "Epoch 4/25\n",
      "163/163 [==============================] - 278s 2s/step - loss: 0.1794 - accuracy: 0.9488 - val_loss: 0.6296 - val_accuracy: 0.6875\n",
      "Epoch 5/25\n",
      "163/163 [==============================] - 271s 2s/step - loss: 0.1528 - accuracy: 0.9584 - val_loss: 0.5825 - val_accuracy: 0.6875\n",
      "Epoch 6/25\n",
      "163/163 [==============================] - 272s 2s/step - loss: 0.1344 - accuracy: 0.9659 - val_loss: 0.5673 - val_accuracy: 0.6875\n",
      "Epoch 7/25\n",
      "163/163 [==============================] - 272s 2s/step - loss: 0.1187 - accuracy: 0.9714 - val_loss: 0.5462 - val_accuracy: 0.6875\n",
      "Epoch 8/25\n",
      "163/163 [==============================] - 271s 2s/step - loss: 0.1064 - accuracy: 0.9774 - val_loss: 0.4418 - val_accuracy: 0.7500\n",
      "Epoch 9/25\n",
      "163/163 [==============================] - 272s 2s/step - loss: 0.0966 - accuracy: 0.9803 - val_loss: 0.4734 - val_accuracy: 0.7500\n",
      "Epoch 10/25\n",
      "163/163 [==============================] - 279s 2s/step - loss: 0.0887 - accuracy: 0.9812 - val_loss: 0.4340 - val_accuracy: 0.7500\n",
      "Epoch 11/25\n",
      "163/163 [==============================] - 271s 2s/step - loss: 0.0821 - accuracy: 0.9829 - val_loss: 0.4067 - val_accuracy: 0.7500\n",
      "Epoch 12/25\n",
      "163/163 [==============================] - 272s 2s/step - loss: 0.0758 - accuracy: 0.9862 - val_loss: 0.4395 - val_accuracy: 0.7500\n",
      "Epoch 13/25\n",
      "163/163 [==============================] - 272s 2s/step - loss: 0.0712 - accuracy: 0.9860 - val_loss: 0.4174 - val_accuracy: 0.7500\n",
      "Epoch 14/25\n",
      "163/163 [==============================] - 271s 2s/step - loss: 0.0670 - accuracy: 0.9875 - val_loss: 0.4073 - val_accuracy: 0.7500\n",
      "Epoch 15/25\n",
      "163/163 [==============================] - 270s 2s/step - loss: 0.0630 - accuracy: 0.9891 - val_loss: 0.4504 - val_accuracy: 0.7500\n",
      "Epoch 16/25\n",
      "163/163 [==============================] - 270s 2s/step - loss: 0.0599 - accuracy: 0.9902 - val_loss: 0.3852 - val_accuracy: 0.7500\n",
      "Epoch 17/25\n",
      "163/163 [==============================] - 271s 2s/step - loss: 0.0564 - accuracy: 0.9919 - val_loss: 0.3667 - val_accuracy: 0.7500\n",
      "Epoch 18/25\n",
      "163/163 [==============================] - 271s 2s/step - loss: 0.0543 - accuracy: 0.9919 - val_loss: 0.3529 - val_accuracy: 0.7500\n",
      "Epoch 19/25\n",
      "163/163 [==============================] - 270s 2s/step - loss: 0.0516 - accuracy: 0.9925 - val_loss: 0.3634 - val_accuracy: 0.7500\n",
      "Epoch 20/25\n",
      "163/163 [==============================] - 269s 2s/step - loss: 0.0491 - accuracy: 0.9939 - val_loss: 0.3810 - val_accuracy: 0.7500\n",
      "Epoch 21/25\n",
      "163/163 [==============================] - 270s 2s/step - loss: 0.0478 - accuracy: 0.9941 - val_loss: 0.3634 - val_accuracy: 0.7500\n",
      "Epoch 22/25\n",
      "163/163 [==============================] - 271s 2s/step - loss: 0.0456 - accuracy: 0.9948 - val_loss: 0.3432 - val_accuracy: 0.7500\n",
      "Epoch 23/25\n",
      "163/163 [==============================] - 272s 2s/step - loss: 0.0440 - accuracy: 0.9954 - val_loss: 0.3483 - val_accuracy: 0.7500\n",
      "Epoch 24/25\n",
      "163/163 [==============================] - 270s 2s/step - loss: 0.0428 - accuracy: 0.9946 - val_loss: 0.3457 - val_accuracy: 0.7500\n",
      "Epoch 25/25\n",
      "163/163 [==============================] - 269s 2s/step - loss: 0.0410 - accuracy: 0.9956 - val_loss: 0.3420 - val_accuracy: 0.7500\n"
     ]
    }
   ],
   "source": [
    "results_4 = model_4.fit(train_gen, validation_data=val_gen, epochs=25)"
   ]
  },
  {
   "cell_type": "code",
   "execution_count": 98,
   "metadata": {},
   "outputs": [
    {
     "data": {
      "image/png": "[encoded data removed]",
      "text/plain": [
       "<Figure size 432x288 with 1 Axes>"
      ]
     },
     "metadata": {
      "needs_background": "light"
     },
     "output_type": "display_data"
    },
    {
     "data": {
      "image/png": "[encoded data removed]",
      "text/plain": [
       "<Figure size 432x288 with 1 Axes>"
      ]
     },
     "metadata": {
      "needs_background": "light"
     },
     "output_type": "display_data"
    }
   ],
   "source": [
    "visualize_training_results(results_4)"
   ]
  },
  {
   "cell_type": "code",
   "execution_count": null,
   "metadata": {},
   "outputs": [],
   "source": []
  }
 ],
 "metadata": {
  "kernelspec": {
   "display_name": "Python 3",
   "language": "python",
   "name": "python3"
  },
  "language_info": {
   "codemirror_mode": {
    "name": "ipython",
    "version": 3
   },
   "file_extension": ".py",
   "mimetype": "text/x-python",
   "name": "python",
   "nbconvert_exporter": "python",
   "pygments_lexer": "ipython3",
   "version": "3.8.8"
  }
 },
 "nbformat": 4,
 "nbformat_minor": 4
}
