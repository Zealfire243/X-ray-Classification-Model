{
 "cells": [
  {
   "cell_type": "code",
   "execution_count": 14,
   "metadata": {},
   "outputs": [],
   "source": [
    "from tensorflow.keras.preprocessing.image import ImageDataGenerator\n",
    "import os, shutil, math\n",
    "import matplotlib.pyplot as plt\n",
    "from tensorflow.keras import Sequential, layers\n",
    "from tensorflow.keras.optimizers import SGD\n",
    "import numpy as np\n",
    "import pandas as pd\n",
    "import tensorflow as tf"
   ]
  },
  {
   "cell_type": "markdown",
   "metadata": {},
   "source": [
    "This notebook is a copy of [this](./MaidenVoyage.ipynb) notebook expcept here I increased the size of the validation set."
   ]
  },
  {
   "cell_type": "code",
   "execution_count": 4,
   "metadata": {},
   "outputs": [],
   "source": [
    "train_path = os.path.join('chest_xray', 'train')\n",
    "test_path = os.path.join('chest_xray', 'test')\n",
    "val_path = os.path.join('chest_xray', 'val')\n",
    "\n",
    "test_pos_path = os.path.join(test_path, 'PNEUMONIA')\n",
    "test_neg_path = os.path.join(test_path, 'NORMAL')\n",
    "val_pos_path = os.path.join(val_path, 'PNEUMONIA')\n",
    "val_neg_path = os.path.join(val_path, 'NORMAL')\n",
    "\n",
    "test_pos_names = os.listdir(test_pos_path)\n",
    "test_neg_names = os.listdir(test_neg_path)\n",
    "\n",
    "pos_sample_size = math.ceil(0.2*len(test_pos_names))\n",
    "neg_sample_size = math.ceil(0.2*len(test_neg_names))\n",
    "\n",
    "test_pos_selected = np.random.choice(test_pos_names, replace=False, size=pos_sample_size)\n",
    "test_neg_selected = np.random.choice(test_neg_names, replace=False, size=neg_sample_size)\n",
    "\n",
    "src_pos_imgs = [os.path.join(test_pos_path, name) for name in test_pos_selected]\n",
    "src_neg_imgs = [os.path.join(test_neg_path, name) for name in test_neg_selected]\n",
    "\n",
    "val_pos_imgs = [os.path.join(val_pos_path, name) for name in test_pos_selected]\n",
    "val_neg_imgs = [os.path.join(val_neg_path, name) for name in test_neg_selected]\n"
   ]
  },
  {
   "cell_type": "code",
   "execution_count": 14,
   "metadata": {},
   "outputs": [],
   "source": [
    "with open('src_pos_imgs.txt', \"w\") as file :\n",
    "    file.write(\"\\n\".join(src_pos_imgs))\n",
    "with open('src_neg_imgs.txt', \"w\") as file :\n",
    "    file.write(\"\\n\".join(src_neg_imgs))\n",
    "with open('val_pos_imgs.txt', \"w\") as file :\n",
    "    file.write(\"\\n\".join(val_pos_imgs))\n",
    "with open('val_neg_imgs.txt', \"w\") as file :\n",
    "    file.write(\"\\n\".join(val_neg_imgs))"
   ]
  },
  {
   "cell_type": "markdown",
   "metadata": {},
   "source": [
    "Run cell below to add images to validation set"
   ]
  },
  {
   "cell_type": "code",
   "execution_count": 18,
   "metadata": {},
   "outputs": [],
   "source": [
    "for src, dest in zip(src_pos_imgs, val_pos_imgs):\n",
    "    shutil.move(src, dest)\n",
    "for src, dest in zip(src_neg_imgs, val_neg_imgs):\n",
    "    shutil.move(src, dest)"
   ]
  },
  {
   "cell_type": "markdown",
   "metadata": {},
   "source": [
    "Run cell below to take images back from validation set"
   ]
  },
  {
   "cell_type": "code",
   "execution_count": 15,
   "metadata": {},
   "outputs": [],
   "source": [
    "for src, dest in zip(src_pos_imgs, val_pos_imgs):\n",
    "    shutil.move(dest, src)\n",
    "for src, dest in zip(src_neg_imgs, val_neg_imgs):\n",
    "    shutil.move(dest, src)"
   ]
  },
  {
   "cell_type": "code",
   "execution_count": 5,
   "metadata": {},
   "outputs": [
    {
     "name": "stdout",
     "output_type": "stream",
     "text": [
      "Found 5216 images belonging to 2 classes.\n",
      "Found 624 images belonging to 2 classes.\n",
      "Found 141 images belonging to 2 classes.\n"
     ]
    }
   ],
   "source": [
    "datagen = ImageDataGenerator()\n",
    "\n",
    "train_gen = datagen.flow_from_directory(train_path)\n",
    "test_gen = datagen.flow_from_directory(test_path)\n",
    "val_gen = datagen.flow_from_directory(val_path)"
   ]
  },
  {
   "cell_type": "code",
   "execution_count": 6,
   "metadata": {},
   "outputs": [],
   "source": [
    "opt = SGD(learning_rate=1*10**-5)"
   ]
  },
  {
   "cell_type": "markdown",
   "metadata": {},
   "source": [
    "`model.fit_generator(train_gen, validation_data=val_gen)`"
   ]
  },
  {
   "cell_type": "code",
   "execution_count": 17,
   "metadata": {},
   "outputs": [],
   "source": [
    "def visualize_training_results(history):\n",
    "    \"\"\"Function that graphs and displays both loss and accuracy for a neural networks history.\n",
    "    Orginal code from Deeper-Neural-Networks-lab\"\"\"\n",
    "    history = results.history\n",
    "    plt.figure()\n",
    "    plt.plot(history['val_loss'])\n",
    "    plt.plot(history['loss'])\n",
    "    plt.legend(['val_loss', 'loss'])\n",
    "    plt.title('Loss')\n",
    "    plt.xlabel('Epochs')\n",
    "    plt.ylabel('Loss')\n",
    "    plt.show()\n",
    "    \n",
    "    plt.figure()\n",
    "    plt.plot(history['val_accuracy'])\n",
    "    plt.plot(history['accuracy'])\n",
    "    plt.legend(['val_acc', 'acc'])\n",
    "    plt.title('Accuracy')\n",
    "    plt.xlabel('Epochs')\n",
    "    plt.ylabel('Accuracy')\n",
    "    plt.show()"
   ]
  },
  {
   "cell_type": "code",
   "execution_count": 22,
   "metadata": {},
   "outputs": [],
   "source": [
    "def baseline_model(image_shape):\n",
    "    model_layers = [\n",
    "        layers.Input(image_shape),\n",
    "        layers.Flatten(),\n",
    "        layers.Dense(24, activation='relu'),\n",
    "        layers.Dense(2, activation='sigmoid')\n",
    "    ]\n",
    "    model = Sequential(model_layers)\n",
    "    model.compile(loss='binary_crossentropy', optimizer=opt, metrics=['accuracy'])\n",
    "    return model"
   ]
  },
  {
   "cell_type": "code",
   "execution_count": 23,
   "metadata": {
    "scrolled": true
   },
   "outputs": [
    {
     "name": "stdout",
     "output_type": "stream",
     "text": [
      "Epoch 1/25\n",
      "163/163 [==============================] - 85s 517ms/step - loss: 4.5416 - accuracy: 0.7412 - val_loss: 0.6938 - val_accuracy: 0.6099\n",
      "Epoch 2/25\n",
      "163/163 [==============================] - 83s 509ms/step - loss: 0.6932 - accuracy: 0.7431 - val_loss: 0.6931 - val_accuracy: 0.6099\n",
      "Epoch 3/25\n",
      "163/163 [==============================] - 82s 501ms/step - loss: 0.6930 - accuracy: 0.7431 - val_loss: 0.6934 - val_accuracy: 0.6099\n",
      "Epoch 4/25\n",
      "163/163 [==============================] - 80s 490ms/step - loss: 0.6929 - accuracy: 0.7431 - val_loss: 0.6935 - val_accuracy: 0.6099\n",
      "Epoch 5/25\n",
      "163/163 [==============================] - 79s 486ms/step - loss: 0.6930 - accuracy: 0.7431 - val_loss: 0.6930 - val_accuracy: 0.6099\n",
      "Epoch 6/25\n",
      "163/163 [==============================] - 79s 486ms/step - loss: 0.6928 - accuracy: 0.7431 - val_loss: 0.6930 - val_accuracy: 0.6099\n",
      "Epoch 7/25\n",
      "163/163 [==============================] - 80s 490ms/step - loss: 0.6929 - accuracy: 0.7431 - val_loss: 0.6930 - val_accuracy: 0.6099\n",
      "Epoch 8/25\n",
      "163/163 [==============================] - 80s 492ms/step - loss: 0.6927 - accuracy: 0.7431 - val_loss: 0.6930 - val_accuracy: 0.6099\n",
      "Epoch 9/25\n",
      "163/163 [==============================] - 80s 493ms/step - loss: 0.6928 - accuracy: 0.7431 - val_loss: 0.6930 - val_accuracy: 0.6099\n",
      "Epoch 10/25\n",
      "163/163 [==============================] - 80s 492ms/step - loss: 0.6926 - accuracy: 0.7431 - val_loss: 0.6930 - val_accuracy: 0.6099\n",
      "Epoch 11/25\n",
      "163/163 [==============================] - 80s 488ms/step - loss: 0.6927 - accuracy: 0.7431 - val_loss: 0.6930 - val_accuracy: 0.6099\n",
      "Epoch 12/25\n",
      "163/163 [==============================] - 80s 488ms/step - loss: 0.6925 - accuracy: 0.7431 - val_loss: 0.6930 - val_accuracy: 0.6099\n",
      "Epoch 13/25\n",
      "163/163 [==============================] - 79s 484ms/step - loss: 0.6925 - accuracy: 0.7431 - val_loss: 0.6929 - val_accuracy: 0.6099\n",
      "Epoch 14/25\n",
      "163/163 [==============================] - 79s 484ms/step - loss: 0.6925 - accuracy: 0.7431 - val_loss: 0.6929 - val_accuracy: 0.6099\n",
      "Epoch 15/25\n",
      "163/163 [==============================] - 79s 482ms/step - loss: 0.6924 - accuracy: 0.7429 - val_loss: 0.6929 - val_accuracy: 0.6099\n",
      "Epoch 16/25\n",
      "163/163 [==============================] - 79s 484ms/step - loss: 0.6924 - accuracy: 0.7429 - val_loss: 0.6929 - val_accuracy: 0.6099\n",
      "Epoch 17/25\n",
      "163/163 [==============================] - 79s 484ms/step - loss: 0.6923 - accuracy: 0.7429 - val_loss: 0.6928 - val_accuracy: 0.6099\n",
      "Epoch 18/25\n",
      "163/163 [==============================] - 79s 483ms/step - loss: 0.6923 - accuracy: 0.7429 - val_loss: 0.6928 - val_accuracy: 0.6099\n",
      "Epoch 19/25\n",
      "163/163 [==============================] - 79s 484ms/step - loss: 0.6922 - accuracy: 0.7429 - val_loss: 0.6928 - val_accuracy: 0.6099\n",
      "Epoch 20/25\n",
      "163/163 [==============================] - 79s 482ms/step - loss: 0.6922 - accuracy: 0.7429 - val_loss: 0.6928 - val_accuracy: 0.6099\n",
      "Epoch 21/25\n",
      "163/163 [==============================] - 78s 479ms/step - loss: 0.6921 - accuracy: 0.7429 - val_loss: 0.6928 - val_accuracy: 0.6099\n",
      "Epoch 22/25\n",
      "163/163 [==============================] - 79s 484ms/step - loss: 0.6921 - accuracy: 0.7429 - val_loss: 0.6927 - val_accuracy: 0.6099\n",
      "Epoch 23/25\n",
      "163/163 [==============================] - 79s 483ms/step - loss: 0.6920 - accuracy: 0.7429 - val_loss: 0.6927 - val_accuracy: 0.6099\n",
      "Epoch 24/25\n",
      "163/163 [==============================] - 79s 484ms/step - loss: 0.6920 - accuracy: 0.7429 - val_loss: 0.6927 - val_accuracy: 0.6099\n",
      "Epoch 25/25\n",
      "163/163 [==============================] - 80s 487ms/step - loss: 0.6919 - accuracy: 0.7429 - val_loss: 0.6927 - val_accuracy: 0.6099\n"
     ]
    }
   ],
   "source": [
    "\n",
    "baseline_model = baseline_model(train_gen.image_shape)\n",
    "results_1 = baseline_model.fit(train_gen, validation_data=val_gen, epochs=25)"
   ]
  },
  {
   "cell_type": "code",
   "execution_count": 24,
   "metadata": {},
   "outputs": [
    {
     "data": {
      "image/png": "[encoded data removed]",
      "text/plain": [
       "<Figure size 432x288 with 1 Axes>"
      ]
     },
     "metadata": {
      "needs_background": "light"
     },
     "output_type": "display_data"
    },
    {
     "data": {
      "image/png": "[encoded data removed]",
      "text/plain": [
       "<Figure size 432x288 with 1 Axes>"
      ]
     },
     "metadata": {
      "needs_background": "light"
     },
     "output_type": "display_data"
    }
   ],
   "source": [
    "visualize_training_results(results_1)"
   ]
  },
  {
   "cell_type": "code",
   "execution_count": 25,
   "metadata": {},
   "outputs": [],
   "source": [
    "def conv_1(image_shape):\n",
    "    these_layers = [\n",
    "        layers.Input(image_shape),\n",
    "        layers.Conv2D(32, (3, 3), activation='relu'),\n",
    "        layers.MaxPooling2D((2, 2)),\n",
    "        layers.Flatten(),\n",
    "        layers.Dense(32, activation='relu'),\n",
    "        layers.Dense(2, activation='sigmoid')\n",
    "    ]\n",
    "    model = Sequential(these_layers)\n",
    "    model.compile(loss='binary_crossentropy', optimizer='adam', metrics=['accuracy'])\n",
    "    return model"
   ]
  },
  {
   "cell_type": "code",
   "execution_count": 26,
   "metadata": {},
   "outputs": [
    {
     "name": "stdout",
     "output_type": "stream",
     "text": [
      "Model: \"sequential_1\"\n",
      "_________________________________________________________________\n",
      "Layer (type)                 Output Shape              Param #   \n",
      "=================================================================\n",
      "conv2d (Conv2D)              (None, 254, 254, 32)      896       \n",
      "_________________________________________________________________\n",
      "max_pooling2d (MaxPooling2D) (None, 127, 127, 32)      0         \n",
      "_________________________________________________________________\n",
      "flatten_1 (Flatten)          (None, 516128)            0         \n",
      "_________________________________________________________________\n",
      "dense_2 (Dense)              (None, 32)                16516128  \n",
      "_________________________________________________________________\n",
      "dense_3 (Dense)              (None, 2)                 66        \n",
      "=================================================================\n",
      "Total params: 16,517,090\n",
      "Trainable params: 16,517,090\n",
      "Non-trainable params: 0\n",
      "_________________________________________________________________\n"
     ]
    }
   ],
   "source": [
    "model_2 = conv_1(train_gen.image_shape)\n",
    "model_2.summary()"
   ]
  },
  {
   "cell_type": "code",
   "execution_count": 27,
   "metadata": {},
   "outputs": [
    {
     "name": "stdout",
     "output_type": "stream",
     "text": [
      "Epoch 1/25\n",
      "163/163 [==============================] - 145s 874ms/step - loss: 243.5777 - accuracy: 0.8146 - val_loss: 12.2136 - val_accuracy: 0.7447\n",
      "Epoch 2/25\n",
      "163/163 [==============================] - 139s 849ms/step - loss: 0.9749 - accuracy: 0.8838 - val_loss: 9.6292 - val_accuracy: 0.7518\n",
      "Epoch 3/25\n",
      "163/163 [==============================] - 137s 835ms/step - loss: 0.6316 - accuracy: 0.8974 - val_loss: 9.7324 - val_accuracy: 0.7801\n",
      "Epoch 4/25\n",
      "163/163 [==============================] - 137s 837ms/step - loss: 0.4563 - accuracy: 0.9095 - val_loss: 9.8053 - val_accuracy: 0.8014\n",
      "Epoch 5/25\n",
      "163/163 [==============================] - 134s 821ms/step - loss: 0.1814 - accuracy: 0.9206 - val_loss: 9.5397 - val_accuracy: 0.7518\n",
      "Epoch 6/25\n",
      "163/163 [==============================] - 134s 820ms/step - loss: 0.0953 - accuracy: 0.9350 - val_loss: 8.5770 - val_accuracy: 0.7801\n",
      "Epoch 7/25\n",
      "163/163 [==============================] - 137s 837ms/step - loss: 0.0761 - accuracy: 0.9480 - val_loss: 9.8130 - val_accuracy: 0.7589\n",
      "Epoch 8/25\n",
      "163/163 [==============================] - 145s 885ms/step - loss: 0.0444 - accuracy: 0.9753 - val_loss: 10.1155 - val_accuracy: 0.7660\n",
      "Epoch 9/25\n",
      "163/163 [==============================] - 136s 831ms/step - loss: 0.0293 - accuracy: 0.9898 - val_loss: 9.8955 - val_accuracy: 0.7943\n",
      "Epoch 10/25\n",
      "163/163 [==============================] - 136s 833ms/step - loss: 0.0207 - accuracy: 0.9923 - val_loss: 10.0513 - val_accuracy: 0.7801\n",
      "Epoch 11/25\n",
      "163/163 [==============================] - 134s 820ms/step - loss: 0.0230 - accuracy: 0.9927 - val_loss: 9.2380 - val_accuracy: 0.7872\n",
      "Epoch 12/25\n",
      "163/163 [==============================] - 149s 899ms/step - loss: 0.0196 - accuracy: 0.9948 - val_loss: 11.7618 - val_accuracy: 0.7305\n",
      "Epoch 13/25\n",
      "163/163 [==============================] - 136s 834ms/step - loss: 0.0128 - accuracy: 0.9960 - val_loss: 10.2462 - val_accuracy: 0.8085\n",
      "Epoch 14/25\n",
      "163/163 [==============================] - 138s 842ms/step - loss: 0.0052 - accuracy: 0.9977 - val_loss: 10.2534 - val_accuracy: 0.7801\n",
      "Epoch 15/25\n",
      "163/163 [==============================] - 139s 849ms/step - loss: 0.0037 - accuracy: 0.9981 - val_loss: 10.3010 - val_accuracy: 0.8014\n",
      "Epoch 16/25\n",
      "163/163 [==============================] - 136s 833ms/step - loss: 0.0033 - accuracy: 0.9981 - val_loss: 10.3502 - val_accuracy: 0.7943\n",
      "Epoch 17/25\n",
      "163/163 [==============================] - 137s 836ms/step - loss: 0.0029 - accuracy: 0.9981 - val_loss: 10.8806 - val_accuracy: 0.7872\n",
      "Epoch 18/25\n",
      "163/163 [==============================] - 135s 825ms/step - loss: 0.0030 - accuracy: 0.9977 - val_loss: 10.3303 - val_accuracy: 0.7801\n",
      "Epoch 19/25\n",
      "163/163 [==============================] - 134s 817ms/step - loss: 0.0029 - accuracy: 0.9977 - val_loss: 10.7477 - val_accuracy: 0.7943\n",
      "Epoch 20/25\n",
      "163/163 [==============================] - 134s 818ms/step - loss: 0.0027 - accuracy: 0.9977 - val_loss: 10.7297 - val_accuracy: 0.7943\n",
      "Epoch 21/25\n",
      "163/163 [==============================] - 135s 826ms/step - loss: 0.0029 - accuracy: 0.9977 - val_loss: 9.9109 - val_accuracy: 0.8014\n",
      "Epoch 22/25\n",
      "163/163 [==============================] - 134s 819ms/step - loss: 0.0026 - accuracy: 0.9977 - val_loss: 10.2109 - val_accuracy: 0.7943\n",
      "Epoch 23/25\n",
      "163/163 [==============================] - 135s 826ms/step - loss: 0.0025 - accuracy: 0.9977 - val_loss: 10.2553 - val_accuracy: 0.7943\n",
      "Epoch 24/25\n",
      "163/163 [==============================] - 130s 795ms/step - loss: 0.0030 - accuracy: 0.9977 - val_loss: 10.7860 - val_accuracy: 0.8014\n",
      "Epoch 25/25\n",
      "163/163 [==============================] - 131s 804ms/step - loss: 0.0022 - accuracy: 0.9977 - val_loss: 10.5167 - val_accuracy: 0.7801\n"
     ]
    }
   ],
   "source": [
    "results_2 = model_2.fit(train_gen, validation_data=val_gen, epochs=25)"
   ]
  },
  {
   "cell_type": "code",
   "execution_count": 28,
   "metadata": {},
   "outputs": [
    {
     "data": {
      "image/png": "[encoded data removed]",
      "text/plain": [
       "<Figure size 432x288 with 1 Axes>"
      ]
     },
     "metadata": {
      "needs_background": "light"
     },
     "output_type": "display_data"
    },
    {
     "data": {
      "image/png": "[encoded data removed]",
      "text/plain": [
       "<Figure size 432x288 with 1 Axes>"
      ]
     },
     "metadata": {
      "needs_background": "light"
     },
     "output_type": "display_data"
    }
   ],
   "source": [
    "visualize_training_results(results_2)"
   ]
  },
  {
   "cell_type": "code",
   "execution_count": 29,
   "metadata": {},
   "outputs": [],
   "source": [
    "def AlexNet(image_shape):\n",
    "    model_layers = [\n",
    "        layers.Input(image_shape),\n",
    "        layers.Conv2D(24, (11,11), activation = 'relu'),\n",
    "        layers.BatchNormalization(),\n",
    "        layers.MaxPooling2D((3,3)),\n",
    "        layers.Conv2D(64, (5,5), padding='same', activation='relu'),\n",
    "        layers.BatchNormalization(),\n",
    "        layers.MaxPooling2D((3,3)),\n",
    "        layers.Conv2D(96, (3,3), padding='same', activation='relu'),\n",
    "        layers.BatchNormalization(),\n",
    "        layers.Conv2D(96, (3,3), activation='relu'),\n",
    "        layers.BatchNormalization(),\n",
    "        layers.Conv2D(64, (3,3), activation='relu'),\n",
    "        layers.BatchNormalization(),\n",
    "        layers.MaxPooling2D((3,3)),\n",
    "        layers.Flatten(),\n",
    "        layers.Dense(192, activation='relu'),\n",
    "        layers.Dropout(.3),\n",
    "        layers.Dense(128, activation='relu'),\n",
    "        layers.Dropout(.3),\n",
    "        layers.Dense(128, activation='relu'),\n",
    "        layers.Dropout(.3),\n",
    "        layers.Dense(2, activation='sigmoid')\n",
    "    ]\n",
    "    \n",
    "    model = Sequential(model_layers)\n",
    "    \n",
    "    model.compile(loss='binary_crossentropy', optimizer=opt, metrics=['accuracy'])\n",
    "    return model"
   ]
  },
  {
   "cell_type": "code",
   "execution_count": 30,
   "metadata": {},
   "outputs": [
    {
     "name": "stdout",
     "output_type": "stream",
     "text": [
      "Model: \"sequential_2\"\n",
      "_________________________________________________________________\n",
      "Layer (type)                 Output Shape              Param #   \n",
      "=================================================================\n",
      "conv2d_1 (Conv2D)            (None, 246, 246, 24)      8736      \n",
      "_________________________________________________________________\n",
      "batch_normalization (BatchNo (None, 246, 246, 24)      96        \n",
      "_________________________________________________________________\n",
      "max_pooling2d_1 (MaxPooling2 (None, 82, 82, 24)        0         \n",
      "_________________________________________________________________\n",
      "conv2d_2 (Conv2D)            (None, 82, 82, 64)        38464     \n",
      "_________________________________________________________________\n",
      "batch_normalization_1 (Batch (None, 82, 82, 64)        256       \n",
      "_________________________________________________________________\n",
      "max_pooling2d_2 (MaxPooling2 (None, 27, 27, 64)        0         \n",
      "_________________________________________________________________\n",
      "conv2d_3 (Conv2D)            (None, 27, 27, 96)        55392     \n",
      "_________________________________________________________________\n",
      "batch_normalization_2 (Batch (None, 27, 27, 96)        384       \n",
      "_________________________________________________________________\n",
      "conv2d_4 (Conv2D)            (None, 25, 25, 96)        83040     \n",
      "_________________________________________________________________\n",
      "batch_normalization_3 (Batch (None, 25, 25, 96)        384       \n",
      "_________________________________________________________________\n",
      "conv2d_5 (Conv2D)            (None, 23, 23, 64)        55360     \n",
      "_________________________________________________________________\n",
      "batch_normalization_4 (Batch (None, 23, 23, 64)        256       \n",
      "_________________________________________________________________\n",
      "max_pooling2d_3 (MaxPooling2 (None, 7, 7, 64)          0         \n",
      "_________________________________________________________________\n",
      "flatten_2 (Flatten)          (None, 3136)              0         \n",
      "_________________________________________________________________\n",
      "dense_4 (Dense)              (None, 192)               602304    \n",
      "_________________________________________________________________\n",
      "dropout (Dropout)            (None, 192)               0         \n",
      "_________________________________________________________________\n",
      "dense_5 (Dense)              (None, 128)               24704     \n",
      "_________________________________________________________________\n",
      "dropout_1 (Dropout)          (None, 128)               0         \n",
      "_________________________________________________________________\n",
      "dense_6 (Dense)              (None, 128)               16512     \n",
      "_________________________________________________________________\n",
      "dropout_2 (Dropout)          (None, 128)               0         \n",
      "_________________________________________________________________\n",
      "dense_7 (Dense)              (None, 2)                 258       \n",
      "=================================================================\n",
      "Total params: 886,146\n",
      "Trainable params: 885,458\n",
      "Non-trainable params: 688\n",
      "_________________________________________________________________\n"
     ]
    }
   ],
   "source": [
    "model_3 = AlexNet(train_gen.image_shape)\n",
    "model_3.summary()"
   ]
  },
  {
   "cell_type": "code",
   "execution_count": 31,
   "metadata": {
    "scrolled": true
   },
   "outputs": [
    {
     "name": "stdout",
     "output_type": "stream",
     "text": [
      "Epoch 1/25\n",
      "163/163 [==============================] - 876s 5s/step - loss: 1.0879 - accuracy: 0.4291 - val_loss: 0.6983 - val_accuracy: 0.5603\n",
      "Epoch 2/25\n",
      "163/163 [==============================] - 866s 5s/step - loss: 1.0074 - accuracy: 0.4624 - val_loss: 0.7086 - val_accuracy: 0.6241\n",
      "Epoch 3/25\n",
      "163/163 [==============================] - 856s 5s/step - loss: 0.9840 - accuracy: 0.4799 - val_loss: 0.6895 - val_accuracy: 0.6596\n",
      "Epoch 4/25\n",
      "163/163 [==============================] - 853s 5s/step - loss: 0.9294 - accuracy: 0.5205 - val_loss: 0.6781 - val_accuracy: 0.6667\n",
      "Epoch 5/25\n",
      "163/163 [==============================] - 865s 5s/step - loss: 0.8845 - accuracy: 0.5562 - val_loss: 0.6589 - val_accuracy: 0.7234\n",
      "Epoch 6/25\n",
      "163/163 [==============================] - 860s 5s/step - loss: 0.8800 - accuracy: 0.5537 - val_loss: 0.6504 - val_accuracy: 0.6950\n",
      "Epoch 7/25\n",
      "163/163 [==============================] - 856s 5s/step - loss: 0.8521 - accuracy: 0.5836 - val_loss: 0.6547 - val_accuracy: 0.6667\n",
      "Epoch 8/25\n",
      "163/163 [==============================] - 853s 5s/step - loss: 0.8342 - accuracy: 0.5989 - val_loss: 0.6480 - val_accuracy: 0.6738\n",
      "Epoch 9/25\n",
      "163/163 [==============================] - 855s 5s/step - loss: 0.8140 - accuracy: 0.6131 - val_loss: 0.6372 - val_accuracy: 0.6809\n",
      "Epoch 10/25\n",
      "163/163 [==============================] - 856s 5s/step - loss: 0.8010 - accuracy: 0.6192 - val_loss: 0.6412 - val_accuracy: 0.6809\n",
      "Epoch 11/25\n",
      "163/163 [==============================] - 854s 5s/step - loss: 0.7878 - accuracy: 0.6511 - val_loss: 0.6334 - val_accuracy: 0.6525\n",
      "Epoch 12/25\n",
      "163/163 [==============================] - 843s 5s/step - loss: 0.7751 - accuracy: 0.6465 - val_loss: 0.6402 - val_accuracy: 0.6596\n",
      "Epoch 13/25\n",
      "163/163 [==============================] - 849s 5s/step - loss: 0.7545 - accuracy: 0.6666 - val_loss: 0.6393 - val_accuracy: 0.6312\n",
      "Epoch 14/25\n",
      "163/163 [==============================] - 856s 5s/step - loss: 0.7642 - accuracy: 0.6578 - val_loss: 0.6371 - val_accuracy: 0.6383\n",
      "Epoch 15/25\n",
      "163/163 [==============================] - 852s 5s/step - loss: 0.7383 - accuracy: 0.6791 - val_loss: 0.6347 - val_accuracy: 0.6383\n",
      "Epoch 16/25\n",
      "163/163 [==============================] - 846s 5s/step - loss: 0.7272 - accuracy: 0.6854 - val_loss: 0.6232 - val_accuracy: 0.6383\n",
      "Epoch 17/25\n",
      "163/163 [==============================] - 850s 5s/step - loss: 0.7066 - accuracy: 0.6984 - val_loss: 0.6106 - val_accuracy: 0.6525\n",
      "Epoch 18/25\n",
      "163/163 [==============================] - 847s 5s/step - loss: 0.7035 - accuracy: 0.6944 - val_loss: 0.6142 - val_accuracy: 0.6879\n",
      "Epoch 19/25\n",
      "163/163 [==============================] - 847s 5s/step - loss: 0.7024 - accuracy: 0.7009 - val_loss: 0.6180 - val_accuracy: 0.6454\n",
      "Epoch 20/25\n",
      "163/163 [==============================] - 858s 5s/step - loss: 0.6898 - accuracy: 0.7072 - val_loss: 0.6214 - val_accuracy: 0.6383\n",
      "Epoch 21/25\n",
      "163/163 [==============================] - 857s 5s/step - loss: 0.6798 - accuracy: 0.7134 - val_loss: 0.6125 - val_accuracy: 0.6525\n",
      "Epoch 22/25\n",
      "163/163 [==============================] - 858s 5s/step - loss: 0.6767 - accuracy: 0.7201 - val_loss: 0.6064 - val_accuracy: 0.6596\n",
      "Epoch 23/25\n",
      "163/163 [==============================] - 854s 5s/step - loss: 0.6693 - accuracy: 0.7164 - val_loss: 0.6177 - val_accuracy: 0.6383\n",
      "Epoch 24/25\n",
      "163/163 [==============================] - 856s 5s/step - loss: 0.6639 - accuracy: 0.7235 - val_loss: 0.6224 - val_accuracy: 0.6525\n",
      "Epoch 25/25\n",
      "163/163 [==============================] - 845s 5s/step - loss: 0.6530 - accuracy: 0.7333 - val_loss: 0.6117 - val_accuracy: 0.6525\n"
     ]
    }
   ],
   "source": [
    "results_3 = model_3.fit(train_gen, validation_data=val_gen, epochs=25)"
   ]
  },
  {
   "cell_type": "code",
   "execution_count": 32,
   "metadata": {},
   "outputs": [
    {
     "data": {
      "image/png": "[encoded data removed]",
      "text/plain": [
       "<Figure size 432x288 with 1 Axes>"
      ]
     },
     "metadata": {
      "needs_background": "light"
     },
     "output_type": "display_data"
    },
    {
     "data": {
      "image/png": "[encoded data removed]",
      "text/plain": [
       "<Figure size 432x288 with 1 Axes>"
      ]
     },
     "metadata": {
      "needs_background": "light"
     },
     "output_type": "display_data"
    }
   ],
   "source": [
    "visualize_training_results(results_3)"
   ]
  },
  {
   "cell_type": "code",
   "execution_count": 8,
   "metadata": {},
   "outputs": [],
   "source": [
    "from tensorflow.keras import Model\n",
    "\n",
    "def SimpleResNet(image_shape):\n",
    "    input_layer = layers.Input(image_shape)\n",
    "    \n",
    "    X = layers.Conv2D(16, (3,3), activation='relu')(input_layer)\n",
    "    X = layers.BatchNormalization()(X)\n",
    "    \n",
    "    X_shortcut = X\n",
    "    \n",
    "    X = layers.Conv2D(16, (3,3), padding='same', activation='relu')(X)\n",
    "    X = layers.BatchNormalization()(X)\n",
    "    \n",
    "    X = layers.Add()([X, X_shortcut]) #Skip Connection\n",
    "    X = layers.Activation('relu')(X)\n",
    "    X = layers.Flatten()(X)\n",
    "    X = layers.Dense(2, activation='sigmoid')(X)\n",
    "    \n",
    "    model = Model(inputs=input_layer, outputs=X, name='ResNet')\n",
    "    \n",
    "    model.compile(loss='binary_crossentropy',\n",
    "                 optimizer=opt,\n",
    "                  metrics=['accuracy'])\n",
    "    \n",
    "    return model"
   ]
  },
  {
   "cell_type": "code",
   "execution_count": 9,
   "metadata": {},
   "outputs": [
    {
     "name": "stdout",
     "output_type": "stream",
     "text": [
      "Model: \"ResNet\"\n",
      "__________________________________________________________________________________________________\n",
      "Layer (type)                    Output Shape         Param #     Connected to                     \n",
      "==================================================================================================\n",
      "input_1 (InputLayer)            [(None, 256, 256, 3) 0                                            \n",
      "__________________________________________________________________________________________________\n",
      "conv2d (Conv2D)                 (None, 254, 254, 16) 448         input_1[0][0]                    \n",
      "__________________________________________________________________________________________________\n",
      "batch_normalization (BatchNorma (None, 254, 254, 16) 64          conv2d[0][0]                     \n",
      "__________________________________________________________________________________________________\n",
      "conv2d_1 (Conv2D)               (None, 254, 254, 16) 2320        batch_normalization[0][0]        \n",
      "__________________________________________________________________________________________________\n",
      "batch_normalization_1 (BatchNor (None, 254, 254, 16) 64          conv2d_1[0][0]                   \n",
      "__________________________________________________________________________________________________\n",
      "add (Add)                       (None, 254, 254, 16) 0           batch_normalization_1[0][0]      \n",
      "                                                                 batch_normalization[0][0]        \n",
      "__________________________________________________________________________________________________\n",
      "activation (Activation)         (None, 254, 254, 16) 0           add[0][0]                        \n",
      "__________________________________________________________________________________________________\n",
      "flatten (Flatten)               (None, 1032256)      0           activation[0][0]                 \n",
      "__________________________________________________________________________________________________\n",
      "dense (Dense)                   (None, 2)            2064514     flatten[0][0]                    \n",
      "==================================================================================================\n",
      "Total params: 2,067,410\n",
      "Trainable params: 2,067,346\n",
      "Non-trainable params: 64\n",
      "__________________________________________________________________________________________________\n"
     ]
    }
   ],
   "source": [
    "model_4 = SimpleResNet(train_gen.image_shape)\n",
    "model_4.summary()"
   ]
  },
  {
   "cell_type": "code",
   "execution_count": 11,
   "metadata": {},
   "outputs": [
    {
     "name": "stdout",
     "output_type": "stream",
     "text": [
      "Epoch 1/8\n",
      "163/163 [==============================] - 273s 2s/step - loss: 0.1243 - accuracy: 0.9649 - val_loss: 0.8970 - val_accuracy: 0.7376\n",
      "Epoch 2/8\n",
      "163/163 [==============================] - 275s 2s/step - loss: 0.1120 - accuracy: 0.9695 - val_loss: 0.8703 - val_accuracy: 0.7660\n",
      "Epoch 3/8\n",
      "163/163 [==============================] - 279s 2s/step - loss: 0.1020 - accuracy: 0.9735 - val_loss: 0.9174 - val_accuracy: 0.7518\n",
      "Epoch 4/8\n",
      "163/163 [==============================] - 283s 2s/step - loss: 0.0936 - accuracy: 0.9772 - val_loss: 0.8982 - val_accuracy: 0.7801\n",
      "Epoch 5/8\n",
      "163/163 [==============================] - 280s 2s/step - loss: 0.0869 - accuracy: 0.9789 - val_loss: 0.9292 - val_accuracy: 0.7589\n",
      "Epoch 6/8\n",
      "163/163 [==============================] - 284s 2s/step - loss: 0.0804 - accuracy: 0.9812 - val_loss: 0.9000 - val_accuracy: 0.7730\n",
      "Epoch 7/8\n",
      "163/163 [==============================] - 282s 2s/step - loss: 0.0751 - accuracy: 0.9831 - val_loss: 0.9554 - val_accuracy: 0.7589\n",
      "Epoch 8/8\n",
      "163/163 [==============================] - 283s 2s/step - loss: 0.0704 - accuracy: 0.9845 - val_loss: 0.9503 - val_accuracy: 0.7660\n"
     ]
    }
   ],
   "source": [
    "results_4 = model_4.fit(train_gen, validation_data=val_gen, epochs=8)"
   ]
  },
  {
   "cell_type": "code",
   "execution_count": 12,
   "metadata": {},
   "outputs": [
    {
     "data": {
      "image/png": "[encoded data removed]",
      "text/plain": [
       "<Figure size 432x288 with 1 Axes>"
      ]
     },
     "metadata": {
      "needs_background": "light"
     },
     "output_type": "display_data"
    },
    {
     "data": {
      "image/png": "[encoded data removed]",
      "text/plain": [
       "<Figure size 432x288 with 1 Axes>"
      ]
     },
     "metadata": {
      "needs_background": "light"
     },
     "output_type": "display_data"
    }
   ],
   "source": [
    "visualize_training_results(results_4)"
   ]
  },
  {
   "cell_type": "code",
   "execution_count": null,
   "metadata": {},
   "outputs": [],
   "source": []
  }
 ],
 "metadata": {
  "kernelspec": {
   "display_name": "Python 3",
   "language": "python",
   "name": "python3"
  },
  "language_info": {
   "codemirror_mode": {
    "name": "ipython",
    "version": 3
   },
   "file_extension": ".py",
   "mimetype": "text/x-python",
   "name": "python",
   "nbconvert_exporter": "python",
   "pygments_lexer": "ipython3",
   "version": "3.8.5"
  }
 },
 "nbformat": 4,
 "nbformat_minor": 4
}
