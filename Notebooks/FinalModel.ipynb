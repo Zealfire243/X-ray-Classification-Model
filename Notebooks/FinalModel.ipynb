{
 "cells": [
  {
   "cell_type": "code",
   "execution_count": 2,
   "metadata": {},
   "outputs": [],
   "source": [
    "from tensorflow.keras.preprocessing.image import ImageDataGenerator\n",
    "import os\n",
    "import matplotlib.pyplot as plt\n",
    "from tensorflow.keras import Sequential\n",
    "from tensorflow.keras.optimizers import SGD\n",
    "from tensorflow import Tensor\n",
    "from tensorflow.keras.layers import Input, Conv2D, ReLU, BatchNormalization,\\\n",
    "                                    Add, AveragePooling2D, Flatten, Dense\n",
    "from tensorflow.keras.models import Model"
   ]
  },
  {
   "cell_type": "code",
   "execution_count": 3,
   "metadata": {},
   "outputs": [],
   "source": [
    "opt = SGD(learning_rate=1*10**-5)"
   ]
  },
  {
   "cell_type": "code",
   "execution_count": 4,
   "metadata": {},
   "outputs": [],
   "source": [
    "train_path = os.path.join('chest_xray', 'train')\n",
    "test_path = os.path.join('chest_xray', 'test')\n",
    "val_path = os.path.join('chest_xray', 'val')"
   ]
  },
  {
   "cell_type": "code",
   "execution_count": 5,
   "metadata": {},
   "outputs": [
    {
     "name": "stdout",
     "output_type": "stream",
     "text": [
      "Found 5216 images belonging to 2 classes.\n",
      "Found 624 images belonging to 2 classes.\n",
      "Found 141 images belonging to 2 classes.\n"
     ]
    }
   ],
   "source": [
    "datagen = ImageDataGenerator()\n",
    "\n",
    "train_gen = datagen.flow_from_directory(train_path)\n",
    "test_gen = datagen.flow_from_directory(test_path)\n",
    "val_gen = datagen.flow_from_directory(val_path)"
   ]
  },
  {
   "cell_type": "code",
   "execution_count": 6,
   "metadata": {},
   "outputs": [],
   "source": [
    "def visualize_training_results(results):\n",
    "    \"\"\"Function that graphs and displays both loss and accuracy for a neural networks history.\n",
    "    Orginal code from Deeper-Neural-Networks-lab\"\"\"\n",
    "    history = results.history\n",
    "    plt.figure()\n",
    "    plt.plot(history['val_loss'])\n",
    "    plt.plot(history['loss'])\n",
    "    plt.legend(['val_loss', 'loss'])\n",
    "    plt.title('Loss')\n",
    "    plt.xlabel('Epochs')\n",
    "    plt.ylabel('Loss')\n",
    "    plt.show()\n",
    "    \n",
    "    plt.figure()\n",
    "    plt.plot(history['val_accuracy'])\n",
    "    plt.plot(history['accuracy'])\n",
    "    plt.legend(['val_acc', 'acc'])\n",
    "    plt.title('Accuracy')\n",
    "    plt.xlabel('Epochs')\n",
    "    plt.ylabel('Accuracy')\n",
    "    plt.show()"
   ]
  },
  {
   "cell_type": "markdown",
   "metadata": {},
   "source": [
    "The original code for this more complicated ResNet comes from [here](https://towardsdatascience.com/building-a-resnet-in-keras-e8f1322a49ba)."
   ]
  },
  {
   "cell_type": "code",
   "execution_count": 7,
   "metadata": {},
   "outputs": [],
   "source": [
    "def relu_bn(inputs: Tensor) -> Tensor:\n",
    "    relu = ReLU()(inputs)\n",
    "    bn = BatchNormalization()(relu)\n",
    "    return bn\n",
    "\n",
    "def residual_block(x: Tensor, downsample: bool, filters: int, kernel_size: int = 3) -> Tensor:\n",
    "    y = Conv2D(kernel_size=kernel_size,\n",
    "               strides= (1 if not downsample else 2),\n",
    "               filters=filters,\n",
    "               padding=\"same\")(x)\n",
    "    y = relu_bn(y)\n",
    "    y = Conv2D(kernel_size=kernel_size,\n",
    "               strides=1,\n",
    "               filters=filters,\n",
    "               padding=\"same\")(y)\n",
    "\n",
    "    if downsample:\n",
    "        x = Conv2D(kernel_size=1,\n",
    "                   strides=2,\n",
    "                   filters=filters,\n",
    "                   padding=\"same\")(x)\n",
    "    out = Add()([x, y])\n",
    "    out = relu_bn(out)\n",
    "    return out"
   ]
  },
  {
   "cell_type": "code",
   "execution_count": 21,
   "metadata": {},
   "outputs": [],
   "source": [
    "def ResNet(image_shape, num_filters = 64):\n",
    "    input_layer = Input(image_shape)\n",
    "    X = BatchNormalization()(input_layer)\n",
    "    X = Conv2D(kernel_size=3,\n",
    "               strides=1,\n",
    "               filters=num_filters,\n",
    "               padding=\"same\")(X)\n",
    "    X = relu_bn(X)\n",
    "    \n",
    "    num_blocks_list =[2, 5, 2]\n",
    "    \n",
    "    for i in range(len(num_blocks_list)):\n",
    "        for j in range(num_blocks_list[i]):\n",
    "            X = residual_block(X, downsample=(j==0 and i !=0), filters=num_filters)\n",
    "        num_filters *= 2\n",
    "    \n",
    "    X = AveragePooling2D(4)(X)\n",
    "    X = Flatten()(X)\n",
    "    X = Dense(2, activation='sigmoid')(X)\n",
    "    \n",
    "    model = Model(inputs=input_layer, outputs=X, name='ResNet')\n",
    "    \n",
    "    model.compile(loss='binary_crossentropy',\n",
    "                 optimizer=opt,\n",
    "                  metrics=['accuracy'])\n",
    "    \n",
    "    return model"
   ]
  },
  {
   "cell_type": "markdown",
   "metadata": {},
   "source": [
    "For this residual network I made a lot more layers and added some regularizations but only ended up being able to generate approx. 75,000 trainable params. The results show a good amount of overfitting and I only was able to reach a validation accuracy of 69%."
   ]
  },
  {
   "cell_type": "code",
   "execution_count": 25,
   "metadata": {},
   "outputs": [
    {
     "name": "stdout",
     "output_type": "stream",
     "text": [
      "Model: \"ResNet\"\n",
      "__________________________________________________________________________________________________\n",
      "Layer (type)                    Output Shape         Param #     Connected to                     \n",
      "==================================================================================================\n",
      "input_10 (InputLayer)           [(None, 256, 256, 3) 0                                            \n",
      "__________________________________________________________________________________________________\n",
      "batch_normalization_238 (BatchN (None, 256, 256, 3)  12          input_10[0][0]                   \n",
      "__________________________________________________________________________________________________\n",
      "conv2d_254 (Conv2D)             (None, 256, 256, 8)  224         batch_normalization_238[0][0]    \n",
      "__________________________________________________________________________________________________\n",
      "re_lu_229 (ReLU)                (None, 256, 256, 8)  0           conv2d_254[0][0]                 \n",
      "__________________________________________________________________________________________________\n",
      "batch_normalization_239 (BatchN (None, 256, 256, 8)  32          re_lu_229[0][0]                  \n",
      "__________________________________________________________________________________________________\n",
      "conv2d_255 (Conv2D)             (None, 256, 256, 8)  584         batch_normalization_239[0][0]    \n",
      "__________________________________________________________________________________________________\n",
      "re_lu_230 (ReLU)                (None, 256, 256, 8)  0           conv2d_255[0][0]                 \n",
      "__________________________________________________________________________________________________\n",
      "batch_normalization_240 (BatchN (None, 256, 256, 8)  32          re_lu_230[0][0]                  \n",
      "__________________________________________________________________________________________________\n",
      "conv2d_256 (Conv2D)             (None, 256, 256, 8)  584         batch_normalization_240[0][0]    \n",
      "__________________________________________________________________________________________________\n",
      "add_110 (Add)                   (None, 256, 256, 8)  0           batch_normalization_239[0][0]    \n",
      "                                                                 conv2d_256[0][0]                 \n",
      "__________________________________________________________________________________________________\n",
      "re_lu_231 (ReLU)                (None, 256, 256, 8)  0           add_110[0][0]                    \n",
      "__________________________________________________________________________________________________\n",
      "batch_normalization_241 (BatchN (None, 256, 256, 8)  32          re_lu_231[0][0]                  \n",
      "__________________________________________________________________________________________________\n",
      "conv2d_257 (Conv2D)             (None, 256, 256, 8)  584         batch_normalization_241[0][0]    \n",
      "__________________________________________________________________________________________________\n",
      "re_lu_232 (ReLU)                (None, 256, 256, 8)  0           conv2d_257[0][0]                 \n",
      "__________________________________________________________________________________________________\n",
      "batch_normalization_242 (BatchN (None, 256, 256, 8)  32          re_lu_232[0][0]                  \n",
      "__________________________________________________________________________________________________\n",
      "conv2d_258 (Conv2D)             (None, 256, 256, 8)  584         batch_normalization_242[0][0]    \n",
      "__________________________________________________________________________________________________\n",
      "add_111 (Add)                   (None, 256, 256, 8)  0           batch_normalization_241[0][0]    \n",
      "                                                                 conv2d_258[0][0]                 \n",
      "__________________________________________________________________________________________________\n",
      "re_lu_233 (ReLU)                (None, 256, 256, 8)  0           add_111[0][0]                    \n",
      "__________________________________________________________________________________________________\n",
      "batch_normalization_243 (BatchN (None, 256, 256, 8)  32          re_lu_233[0][0]                  \n",
      "__________________________________________________________________________________________________\n",
      "conv2d_259 (Conv2D)             (None, 128, 128, 16) 1168        batch_normalization_243[0][0]    \n",
      "__________________________________________________________________________________________________\n",
      "re_lu_234 (ReLU)                (None, 128, 128, 16) 0           conv2d_259[0][0]                 \n",
      "__________________________________________________________________________________________________\n",
      "batch_normalization_244 (BatchN (None, 128, 128, 16) 64          re_lu_234[0][0]                  \n",
      "__________________________________________________________________________________________________\n",
      "conv2d_261 (Conv2D)             (None, 128, 128, 16) 144         batch_normalization_243[0][0]    \n",
      "__________________________________________________________________________________________________\n",
      "conv2d_260 (Conv2D)             (None, 128, 128, 16) 2320        batch_normalization_244[0][0]    \n",
      "__________________________________________________________________________________________________\n",
      "add_112 (Add)                   (None, 128, 128, 16) 0           conv2d_261[0][0]                 \n",
      "                                                                 conv2d_260[0][0]                 \n",
      "__________________________________________________________________________________________________\n",
      "re_lu_235 (ReLU)                (None, 128, 128, 16) 0           add_112[0][0]                    \n",
      "__________________________________________________________________________________________________\n",
      "batch_normalization_245 (BatchN (None, 128, 128, 16) 64          re_lu_235[0][0]                  \n",
      "__________________________________________________________________________________________________\n",
      "conv2d_262 (Conv2D)             (None, 128, 128, 16) 2320        batch_normalization_245[0][0]    \n",
      "__________________________________________________________________________________________________\n",
      "re_lu_236 (ReLU)                (None, 128, 128, 16) 0           conv2d_262[0][0]                 \n",
      "__________________________________________________________________________________________________\n",
      "batch_normalization_246 (BatchN (None, 128, 128, 16) 64          re_lu_236[0][0]                  \n",
      "__________________________________________________________________________________________________\n",
      "conv2d_263 (Conv2D)             (None, 128, 128, 16) 2320        batch_normalization_246[0][0]    \n",
      "__________________________________________________________________________________________________\n",
      "add_113 (Add)                   (None, 128, 128, 16) 0           batch_normalization_245[0][0]    \n",
      "                                                                 conv2d_263[0][0]                 \n",
      "__________________________________________________________________________________________________\n",
      "re_lu_237 (ReLU)                (None, 128, 128, 16) 0           add_113[0][0]                    \n",
      "__________________________________________________________________________________________________\n",
      "batch_normalization_247 (BatchN (None, 128, 128, 16) 64          re_lu_237[0][0]                  \n",
      "__________________________________________________________________________________________________\n",
      "conv2d_264 (Conv2D)             (None, 128, 128, 16) 2320        batch_normalization_247[0][0]    \n",
      "__________________________________________________________________________________________________\n",
      "re_lu_238 (ReLU)                (None, 128, 128, 16) 0           conv2d_264[0][0]                 \n",
      "__________________________________________________________________________________________________\n",
      "batch_normalization_248 (BatchN (None, 128, 128, 16) 64          re_lu_238[0][0]                  \n",
      "__________________________________________________________________________________________________\n",
      "conv2d_265 (Conv2D)             (None, 128, 128, 16) 2320        batch_normalization_248[0][0]    \n",
      "__________________________________________________________________________________________________\n",
      "add_114 (Add)                   (None, 128, 128, 16) 0           batch_normalization_247[0][0]    \n",
      "                                                                 conv2d_265[0][0]                 \n",
      "__________________________________________________________________________________________________\n",
      "re_lu_239 (ReLU)                (None, 128, 128, 16) 0           add_114[0][0]                    \n",
      "__________________________________________________________________________________________________\n",
      "batch_normalization_249 (BatchN (None, 128, 128, 16) 64          re_lu_239[0][0]                  \n",
      "__________________________________________________________________________________________________\n",
      "conv2d_266 (Conv2D)             (None, 128, 128, 16) 2320        batch_normalization_249[0][0]    \n",
      "__________________________________________________________________________________________________\n",
      "re_lu_240 (ReLU)                (None, 128, 128, 16) 0           conv2d_266[0][0]                 \n",
      "__________________________________________________________________________________________________\n",
      "batch_normalization_250 (BatchN (None, 128, 128, 16) 64          re_lu_240[0][0]                  \n",
      "__________________________________________________________________________________________________\n",
      "conv2d_267 (Conv2D)             (None, 128, 128, 16) 2320        batch_normalization_250[0][0]    \n",
      "__________________________________________________________________________________________________\n",
      "add_115 (Add)                   (None, 128, 128, 16) 0           batch_normalization_249[0][0]    \n",
      "                                                                 conv2d_267[0][0]                 \n",
      "__________________________________________________________________________________________________\n",
      "re_lu_241 (ReLU)                (None, 128, 128, 16) 0           add_115[0][0]                    \n",
      "__________________________________________________________________________________________________\n",
      "batch_normalization_251 (BatchN (None, 128, 128, 16) 64          re_lu_241[0][0]                  \n",
      "__________________________________________________________________________________________________\n",
      "conv2d_268 (Conv2D)             (None, 128, 128, 16) 2320        batch_normalization_251[0][0]    \n",
      "__________________________________________________________________________________________________\n",
      "re_lu_242 (ReLU)                (None, 128, 128, 16) 0           conv2d_268[0][0]                 \n",
      "__________________________________________________________________________________________________\n",
      "batch_normalization_252 (BatchN (None, 128, 128, 16) 64          re_lu_242[0][0]                  \n",
      "__________________________________________________________________________________________________\n",
      "conv2d_269 (Conv2D)             (None, 128, 128, 16) 2320        batch_normalization_252[0][0]    \n",
      "__________________________________________________________________________________________________\n",
      "add_116 (Add)                   (None, 128, 128, 16) 0           batch_normalization_251[0][0]    \n",
      "                                                                 conv2d_269[0][0]                 \n",
      "__________________________________________________________________________________________________\n",
      "re_lu_243 (ReLU)                (None, 128, 128, 16) 0           add_116[0][0]                    \n",
      "__________________________________________________________________________________________________\n",
      "batch_normalization_253 (BatchN (None, 128, 128, 16) 64          re_lu_243[0][0]                  \n",
      "__________________________________________________________________________________________________\n",
      "conv2d_270 (Conv2D)             (None, 64, 64, 32)   4640        batch_normalization_253[0][0]    \n",
      "__________________________________________________________________________________________________\n",
      "re_lu_244 (ReLU)                (None, 64, 64, 32)   0           conv2d_270[0][0]                 \n",
      "__________________________________________________________________________________________________\n",
      "batch_normalization_254 (BatchN (None, 64, 64, 32)   128         re_lu_244[0][0]                  \n",
      "__________________________________________________________________________________________________\n",
      "conv2d_272 (Conv2D)             (None, 64, 64, 32)   544         batch_normalization_253[0][0]    \n",
      "__________________________________________________________________________________________________\n",
      "conv2d_271 (Conv2D)             (None, 64, 64, 32)   9248        batch_normalization_254[0][0]    \n",
      "__________________________________________________________________________________________________\n",
      "add_117 (Add)                   (None, 64, 64, 32)   0           conv2d_272[0][0]                 \n",
      "                                                                 conv2d_271[0][0]                 \n",
      "__________________________________________________________________________________________________\n",
      "re_lu_245 (ReLU)                (None, 64, 64, 32)   0           add_117[0][0]                    \n",
      "__________________________________________________________________________________________________\n",
      "batch_normalization_255 (BatchN (None, 64, 64, 32)   128         re_lu_245[0][0]                  \n",
      "__________________________________________________________________________________________________\n",
      "conv2d_273 (Conv2D)             (None, 64, 64, 32)   9248        batch_normalization_255[0][0]    \n",
      "__________________________________________________________________________________________________\n",
      "re_lu_246 (ReLU)                (None, 64, 64, 32)   0           conv2d_273[0][0]                 \n",
      "__________________________________________________________________________________________________\n",
      "batch_normalization_256 (BatchN (None, 64, 64, 32)   128         re_lu_246[0][0]                  \n",
      "__________________________________________________________________________________________________\n",
      "conv2d_274 (Conv2D)             (None, 64, 64, 32)   9248        batch_normalization_256[0][0]    \n",
      "__________________________________________________________________________________________________\n",
      "add_118 (Add)                   (None, 64, 64, 32)   0           batch_normalization_255[0][0]    \n",
      "                                                                 conv2d_274[0][0]                 \n",
      "__________________________________________________________________________________________________\n",
      "re_lu_247 (ReLU)                (None, 64, 64, 32)   0           add_118[0][0]                    \n",
      "__________________________________________________________________________________________________\n",
      "batch_normalization_257 (BatchN (None, 64, 64, 32)   128         re_lu_247[0][0]                  \n",
      "__________________________________________________________________________________________________\n",
      "average_pooling2d_9 (AveragePoo (None, 16, 16, 32)   0           batch_normalization_257[0][0]    \n",
      "__________________________________________________________________________________________________\n",
      "flatten_9 (Flatten)             (None, 8192)         0           average_pooling2d_9[0][0]        \n",
      "__________________________________________________________________________________________________\n",
      "dense_9 (Dense)                 (None, 2)            16386       flatten_9[0][0]                  \n",
      "==================================================================================================\n",
      "Total params: 75,390\n",
      "Trainable params: 74,728\n",
      "Non-trainable params: 662\n",
      "__________________________________________________________________________________________________\n"
     ]
    }
   ],
   "source": [
    "model_5 = ResNet(image_shape=train_gen.image_shape, num_filters=8)\n",
    "model_5.summary()\n"
   ]
  },
  {
   "cell_type": "code",
   "execution_count": 26,
   "metadata": {},
   "outputs": [
    {
     "name": "stdout",
     "output_type": "stream",
     "text": [
      "Epoch 1/25\n",
      "163/163 [==============================] - 2315s 14s/step - loss: 0.6946 - accuracy: 0.5809 - val_loss: 0.7112 - val_accuracy: 0.3901\n",
      "Epoch 2/25\n",
      "163/163 [==============================] - 2250s 14s/step - loss: 0.6635 - accuracy: 0.6411 - val_loss: 0.6976 - val_accuracy: 0.5319\n",
      "Epoch 3/25\n",
      "163/163 [==============================] - 2181s 13s/step - loss: 0.6367 - accuracy: 0.6900 - val_loss: 0.6982 - val_accuracy: 0.5816\n",
      "Epoch 4/25\n",
      "163/163 [==============================] - 2186s 13s/step - loss: 0.6115 - accuracy: 0.7287 - val_loss: 0.6885 - val_accuracy: 0.6099\n",
      "Epoch 5/25\n",
      "163/163 [==============================] - 2210s 14s/step - loss: 0.5899 - accuracy: 0.7502 - val_loss: 0.6785 - val_accuracy: 0.6241\n",
      "Epoch 6/25\n",
      "163/163 [==============================] - 2203s 14s/step - loss: 0.5696 - accuracy: 0.7676 - val_loss: 0.6701 - val_accuracy: 0.6454\n",
      "Epoch 7/25\n",
      "163/163 [==============================] - 2175s 13s/step - loss: 0.5518 - accuracy: 0.7778 - val_loss: 0.6635 - val_accuracy: 0.6383\n",
      "Epoch 8/25\n",
      "163/163 [==============================] - 2198s 13s/step - loss: 0.5357 - accuracy: 0.7901 - val_loss: 0.6554 - val_accuracy: 0.6383\n",
      "Epoch 9/25\n",
      "163/163 [==============================] - 2218s 14s/step - loss: 0.5210 - accuracy: 0.7956 - val_loss: 0.6487 - val_accuracy: 0.6454\n",
      "Epoch 10/25\n",
      "163/163 [==============================] - 2189s 13s/step - loss: 0.5068 - accuracy: 0.8035 - val_loss: 0.6442 - val_accuracy: 0.6454\n",
      "Epoch 11/25\n",
      "163/163 [==============================] - 2208s 14s/step - loss: 0.4940 - accuracy: 0.8083 - val_loss: 0.6403 - val_accuracy: 0.6312\n",
      "Epoch 12/25\n",
      "163/163 [==============================] - 2206s 14s/step - loss: 0.4819 - accuracy: 0.8112 - val_loss: 0.6399 - val_accuracy: 0.6454\n",
      "Epoch 13/25\n",
      "163/163 [==============================] - 2206s 14s/step - loss: 0.4718 - accuracy: 0.8148 - val_loss: 0.6370 - val_accuracy: 0.6454\n",
      "Epoch 14/25\n",
      "163/163 [==============================] - 2240s 14s/step - loss: 0.4622 - accuracy: 0.8183 - val_loss: 0.6349 - val_accuracy: 0.6383\n",
      "Epoch 15/25\n",
      "163/163 [==============================] - 2266s 14s/step - loss: 0.4528 - accuracy: 0.8234 - val_loss: 0.6331 - val_accuracy: 0.6383\n",
      "Epoch 16/25\n",
      "163/163 [==============================] - 2204s 14s/step - loss: 0.4449 - accuracy: 0.8280 - val_loss: 0.6339 - val_accuracy: 0.6312\n",
      "Epoch 17/25\n",
      "163/163 [==============================] - 2198s 13s/step - loss: 0.4365 - accuracy: 0.8298 - val_loss: 0.6308 - val_accuracy: 0.6596\n",
      "Epoch 18/25\n",
      "163/163 [==============================] - 2246s 14s/step - loss: 0.4290 - accuracy: 0.8330 - val_loss: 0.6303 - val_accuracy: 0.6454\n",
      "Epoch 19/25\n",
      "163/163 [==============================] - 2205s 14s/step - loss: 0.4228 - accuracy: 0.8361 - val_loss: 0.6308 - val_accuracy: 0.6596\n",
      "Epoch 20/25\n",
      "163/163 [==============================] - 2240s 14s/step - loss: 0.4156 - accuracy: 0.8367 - val_loss: 0.6302 - val_accuracy: 0.6667\n",
      "Epoch 21/25\n",
      "163/163 [==============================] - 2217s 14s/step - loss: 0.4104 - accuracy: 0.8357 - val_loss: 0.6303 - val_accuracy: 0.6667\n",
      "Epoch 22/25\n",
      "163/163 [==============================] - 2229s 14s/step - loss: 0.4057 - accuracy: 0.8411 - val_loss: 0.6301 - val_accuracy: 0.6738\n",
      "Epoch 23/25\n",
      "163/163 [==============================] - 2197s 13s/step - loss: 0.3983 - accuracy: 0.8480 - val_loss: 0.6306 - val_accuracy: 0.6667\n",
      "Epoch 24/25\n",
      "163/163 [==============================] - 1320s 8s/step - loss: 0.3934 - accuracy: 0.8461 - val_loss: 0.6280 - val_accuracy: 0.6809\n",
      "Epoch 25/25\n",
      "163/163 [==============================] - 1122s 7s/step - loss: 0.3894 - accuracy: 0.8466 - val_loss: 0.6304 - val_accuracy: 0.6879\n"
     ]
    }
   ],
   "source": [
    "results_5 = model_5.fit(train_gen, validation_data=val_gen, epochs=25)"
   ]
  },
  {
   "cell_type": "code",
   "execution_count": 27,
   "metadata": {},
   "outputs": [
    {
     "data": {
      "image/png": "[encoded data removed]",
      "text/plain": [
       "<Figure size 432x288 with 1 Axes>"
      ]
     },
     "metadata": {
      "needs_background": "light"
     },
     "output_type": "display_data"
    },
    {
     "data": {
      "image/png": "[encoded data removed]",
      "text/plain": [
       "<Figure size 432x288 with 1 Axes>"
      ]
     },
     "metadata": {
      "needs_background": "light"
     },
     "output_type": "display_data"
    }
   ],
   "source": [
    "visualize_training_results(results_5)"
   ]
  },
  {
   "cell_type": "code",
   "execution_count": null,
   "metadata": {},
   "outputs": [],
   "source": []
  }
 ],
 "metadata": {
  "kernelspec": {
   "display_name": "Python 3",
   "language": "python",
   "name": "python3"
  },
  "language_info": {
   "codemirror_mode": {
    "name": "ipython",
    "version": 3
   },
   "file_extension": ".py",
   "mimetype": "text/x-python",
   "name": "python",
   "nbconvert_exporter": "python",
   "pygments_lexer": "ipython3",
   "version": "3.8.5"
  }
 },
 "nbformat": 4,
 "nbformat_minor": 5
}
